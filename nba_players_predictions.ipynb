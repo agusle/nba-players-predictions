{
  "cells": [
    {
      "cell_type": "markdown",
      "id": "3d08028c-be52-4d84-a995-34b690c3e8a5",
      "metadata": {
        "id": "3d08028c-be52-4d84-a995-34b690c3e8a5"
      },
      "source": [
        "# Making Estimations with our NBA dataset"
      ]
    },
    {
      "cell_type": "markdown",
      "id": "4ff2f3cb-7e1a-4705-bce7-44a56c0113e1",
      "metadata": {
        "id": "4ff2f3cb-7e1a-4705-bce7-44a56c0113e1"
      },
      "source": [
        "While in the [Building the dataset](https://github.com/agusle/nba-players-predictions/blob/main/nba-players-dataset.ipynb) notebook, we learn how to create our own datasets by using a public API, Python and Pandas. We're now going to explore how to make predictive models for regression and classification tasks using ScikitLearn."
      ]
    },
    {
      "cell_type": "markdown",
      "id": "5b732b5b-8fcc-4917-85a1-035bfc00a7dd",
      "metadata": {
        "id": "5b732b5b-8fcc-4917-85a1-035bfc00a7dd"
      },
      "source": [
        "The goals of this notebook are:\n",
        "- Learn how to define a prediction task\n",
        "- Selecting evaluation metrics and baseline models\n",
        "- Perform feature engineering and standarization\n",
        "- Training and using predictive models: Univariable and Multivariate Linear Regression, Classification\n",
        "- Understand how Gradient Descent works by implementing a Linear Regressor in python"
      ]
    },
    {
      "cell_type": "markdown",
      "id": "73bd1212-887d-4b10-a277-30156aaf410b",
      "metadata": {
        "tags": [],
        "id": "73bd1212-887d-4b10-a277-30156aaf410b"
      },
      "source": [
        "## Using Regression Models to Estimate players Salaries"
      ]
    },
    {
      "cell_type": "markdown",
      "id": "e51670c9-30ec-4dcf-b3f4-e5ba90019818",
      "metadata": {
        "id": "e51670c9-30ec-4dcf-b3f4-e5ba90019818"
      },
      "source": [
        "A player's salary can be explained by a lot of factors: \n",
        "\n",
        "- **Years in the league:** NBA contracts are limited in price, players have caps on how much money they make depending on their years playing in the league\n",
        "- **Age:** Highly correlated to the previous one, NBA players have a minimun age of 19 years\n",
        "- **Draft position:** players out of USA universities are selected each year through a process called draft, in which each team selects a player in a predefined order for 2 rounds (meaning only 60 players are drafted each year). A rookie contract value depends on the draft position. (Undrafted players have to negotiate a salary independently)\n",
        "- **Performance in statistical categories:** after the rookie contract, players can negotiate freely with teams, and usually statistical categories like points, rebounds and assists are extremely important.  \n",
        "- **Team:** Even though there are limits to what all teams can expend in players salary, they all allocate their resources differently, and can be more willing to pay the penalties incurred by exceeding those limitations.\n",
        "- **Year in which the contract was signed:** the mininum and maximum values of contracts possibles in the NBA changes depending on league revenue (television contracts, sponsorships, etc), so if the amount of money the teams make increases, players can negotiate bigger contracts.\n",
        "- **Intangibles:** players can be valued also in things that are not easily translated to a statistic, good defensive players might not always have great stats but can be extremely important for a team, the same can be said about veteran players that help young ones to learn and are good locker-room guys.\n",
        "\n",
        "But we're going to take a simplified approach, we'll try to use the data we already have to make the best estimator possible, and then we will analyze what went right and what could've gone wrong with our results."
      ]
    },
    {
      "cell_type": "markdown",
      "id": "6f110fec-8919-4427-89f7-b3e581176703",
      "metadata": {
        "id": "6f110fec-8919-4427-89f7-b3e581176703"
      },
      "source": [
        "### Analyzing our data"
      ]
    },
    {
      "cell_type": "code",
      "source": [
        "import pandas as pd\n",
        "import warnings\n",
        "data = pd.read_csv(\"https://raw.githubusercontent.com/agusle/nba-players-predictions/main/data/dataset/nba_players_processed_dataset.csv\")\n",
        "\n",
        "#ignore warnings\n",
        "warnings.filterwarnings(\"ignore\")\n",
        "#make a copy \n",
        "data1= data.copy()\n",
        "#dropping 'TEAM_NAME' to  according Q&A 29.04 (22 players with no team but salary) \n",
        "data1.dropna(subset=[\"PTS\",'TEAM_NAME'], inplace=True)"
      ],
      "metadata": {
        "id": "5ROeYso1im4J"
      },
      "id": "5ROeYso1im4J",
      "execution_count": 53,
      "outputs": []
    },
    {
      "cell_type": "markdown",
      "id": "c3cc6b89-e698-4943-8562-160190b9cbd0",
      "metadata": {
        "id": "c3cc6b89-e698-4943-8562-160190b9cbd0"
      },
      "source": [
        "Let's have another look at our previously generated dataset. "
      ]
    },
    {
      "cell_type": "code",
      "source": [
        "data"
      ],
      "metadata": {
        "colab": {
          "base_uri": "https://localhost:8080/",
          "height": 1000
        },
        "id": "PwCLAay9kq15",
        "outputId": "d9b5ea05-c850-4933-851f-0842fa1b0375"
      },
      "id": "PwCLAay9kq15",
      "execution_count": 54,
      "outputs": [
        {
          "output_type": "execute_result",
          "data": {
            "text/plain": [
              "     PLAYER_ID               PLAYER_NAME  TEAM_NAME POSITION  HEIGHT  WEIGHT  \\\n",
              "0      1630173          Precious Achiuwa    Raptors  Forward     203     102   \n",
              "1       203500              Steven Adams  Grizzlies   Center     210     120   \n",
              "2      1628389               Bam Adebayo       Heat   Center     205     115   \n",
              "3      1630583              Santi Aldama  Grizzlies  Forward     210      97   \n",
              "4      1629638  Nickeil Alexander-Walker       Jazz    Guard     195      92   \n",
              "..         ...                       ...        ...      ...     ...     ...   \n",
              "398    1630593        McKinley Wright IV  Mavericks    Guard     180      87   \n",
              "399     201152            Thaddeus Young    Raptors  Forward     203     106   \n",
              "400    1629027                Trae Young      Hawks    Guard     185      74   \n",
              "401    1630209            Omer Yurtseven       Heat   Center     210     124   \n",
              "402    1627826               Ivica Zubac   Clippers   Center     213     108   \n",
              "\n",
              "         COUNTRY   BIRTHDATE  SEASON_EXP  DRAFT_NUMBER      GP   MIN   PTS  \\\n",
              "0        Nigeria  1999-09-19           2            20   134.0  18.4   7.2   \n",
              "1    New Zealand  1993-07-20           9            12   664.0  26.8   9.3   \n",
              "2            USA  1997-07-18           5            14   343.0  28.2  13.5   \n",
              "3          Spain  2001-01-10           1            30    32.0  11.2   4.1   \n",
              "4         Canada  1998-09-02           3            17   158.0  19.4   9.3   \n",
              "..           ...         ...         ...           ...     ...   ...   ...   \n",
              "398          USA  1998-10-25           1             0     5.0   3.8   1.0   \n",
              "399          USA  1988-06-21          15            12  1085.0  29.3  12.8   \n",
              "400          USA  1998-09-19           4             5   280.0  33.6  25.3   \n",
              "401       Turkey  1998-06-19           1             0    56.0  12.6   5.3   \n",
              "402      Croatia  1997-03-18           6            32   360.0  19.0   8.3   \n",
              "\n",
              "     REB  AST  STL  BLK   GAME_DATE    SALARY                           AGE  \n",
              "0    5.1  0.8  0.4  0.5  2022-10-02   2840160  22 years, 11 months, 12 days  \n",
              "1    8.0  1.5  0.9  0.9  2022-10-01  17926829   29 years, 1 months, 11 days  \n",
              "2    8.3  3.5  1.0  0.9  2022-10-04  30351780   25 years, 1 months, 13 days  \n",
              "3    2.7  0.7  0.2  0.3  2022-10-01   2094120   21 years, 7 months, 21 days  \n",
              "4    2.6  2.2  0.7  0.3  2022-10-02   5009633  23 years, 11 months, 29 days  \n",
              "..   ...  ...  ...  ...         ...       ...                           ...  \n",
              "398  0.0  0.6  0.0  0.0  2022-10-05   1637966   23 years, 10 months, 6 days  \n",
              "399  5.8  1.8  1.4  0.4  2022-10-02   8000000   34 years, 2 months, 10 days  \n",
              "400  3.9  9.1  0.9  0.2  2022-10-06  37096500  23 years, 11 months, 12 days  \n",
              "401  5.3  0.9  0.3  0.4  2022-10-04   1752638   24 years, 2 months, 12 days  \n",
              "402  6.5  1.1  0.3  0.8  2022-09-30  10123457   25 years, 5 months, 13 days  \n",
              "\n",
              "[403 rows x 20 columns]"
            ],
            "text/html": [
              "\n",
              "  <div id=\"df-83150446-ce67-490c-8a7a-52f0cddef1d8\">\n",
              "    <div class=\"colab-df-container\">\n",
              "      <div>\n",
              "<style scoped>\n",
              "    .dataframe tbody tr th:only-of-type {\n",
              "        vertical-align: middle;\n",
              "    }\n",
              "\n",
              "    .dataframe tbody tr th {\n",
              "        vertical-align: top;\n",
              "    }\n",
              "\n",
              "    .dataframe thead th {\n",
              "        text-align: right;\n",
              "    }\n",
              "</style>\n",
              "<table border=\"1\" class=\"dataframe\">\n",
              "  <thead>\n",
              "    <tr style=\"text-align: right;\">\n",
              "      <th></th>\n",
              "      <th>PLAYER_ID</th>\n",
              "      <th>PLAYER_NAME</th>\n",
              "      <th>TEAM_NAME</th>\n",
              "      <th>POSITION</th>\n",
              "      <th>HEIGHT</th>\n",
              "      <th>WEIGHT</th>\n",
              "      <th>COUNTRY</th>\n",
              "      <th>BIRTHDATE</th>\n",
              "      <th>SEASON_EXP</th>\n",
              "      <th>DRAFT_NUMBER</th>\n",
              "      <th>GP</th>\n",
              "      <th>MIN</th>\n",
              "      <th>PTS</th>\n",
              "      <th>REB</th>\n",
              "      <th>AST</th>\n",
              "      <th>STL</th>\n",
              "      <th>BLK</th>\n",
              "      <th>GAME_DATE</th>\n",
              "      <th>SALARY</th>\n",
              "      <th>AGE</th>\n",
              "    </tr>\n",
              "  </thead>\n",
              "  <tbody>\n",
              "    <tr>\n",
              "      <th>0</th>\n",
              "      <td>1630173</td>\n",
              "      <td>Precious Achiuwa</td>\n",
              "      <td>Raptors</td>\n",
              "      <td>Forward</td>\n",
              "      <td>203</td>\n",
              "      <td>102</td>\n",
              "      <td>Nigeria</td>\n",
              "      <td>1999-09-19</td>\n",
              "      <td>2</td>\n",
              "      <td>20</td>\n",
              "      <td>134.0</td>\n",
              "      <td>18.4</td>\n",
              "      <td>7.2</td>\n",
              "      <td>5.1</td>\n",
              "      <td>0.8</td>\n",
              "      <td>0.4</td>\n",
              "      <td>0.5</td>\n",
              "      <td>2022-10-02</td>\n",
              "      <td>2840160</td>\n",
              "      <td>22 years, 11 months, 12 days</td>\n",
              "    </tr>\n",
              "    <tr>\n",
              "      <th>1</th>\n",
              "      <td>203500</td>\n",
              "      <td>Steven Adams</td>\n",
              "      <td>Grizzlies</td>\n",
              "      <td>Center</td>\n",
              "      <td>210</td>\n",
              "      <td>120</td>\n",
              "      <td>New Zealand</td>\n",
              "      <td>1993-07-20</td>\n",
              "      <td>9</td>\n",
              "      <td>12</td>\n",
              "      <td>664.0</td>\n",
              "      <td>26.8</td>\n",
              "      <td>9.3</td>\n",
              "      <td>8.0</td>\n",
              "      <td>1.5</td>\n",
              "      <td>0.9</td>\n",
              "      <td>0.9</td>\n",
              "      <td>2022-10-01</td>\n",
              "      <td>17926829</td>\n",
              "      <td>29 years, 1 months, 11 days</td>\n",
              "    </tr>\n",
              "    <tr>\n",
              "      <th>2</th>\n",
              "      <td>1628389</td>\n",
              "      <td>Bam Adebayo</td>\n",
              "      <td>Heat</td>\n",
              "      <td>Center</td>\n",
              "      <td>205</td>\n",
              "      <td>115</td>\n",
              "      <td>USA</td>\n",
              "      <td>1997-07-18</td>\n",
              "      <td>5</td>\n",
              "      <td>14</td>\n",
              "      <td>343.0</td>\n",
              "      <td>28.2</td>\n",
              "      <td>13.5</td>\n",
              "      <td>8.3</td>\n",
              "      <td>3.5</td>\n",
              "      <td>1.0</td>\n",
              "      <td>0.9</td>\n",
              "      <td>2022-10-04</td>\n",
              "      <td>30351780</td>\n",
              "      <td>25 years, 1 months, 13 days</td>\n",
              "    </tr>\n",
              "    <tr>\n",
              "      <th>3</th>\n",
              "      <td>1630583</td>\n",
              "      <td>Santi Aldama</td>\n",
              "      <td>Grizzlies</td>\n",
              "      <td>Forward</td>\n",
              "      <td>210</td>\n",
              "      <td>97</td>\n",
              "      <td>Spain</td>\n",
              "      <td>2001-01-10</td>\n",
              "      <td>1</td>\n",
              "      <td>30</td>\n",
              "      <td>32.0</td>\n",
              "      <td>11.2</td>\n",
              "      <td>4.1</td>\n",
              "      <td>2.7</td>\n",
              "      <td>0.7</td>\n",
              "      <td>0.2</td>\n",
              "      <td>0.3</td>\n",
              "      <td>2022-10-01</td>\n",
              "      <td>2094120</td>\n",
              "      <td>21 years, 7 months, 21 days</td>\n",
              "    </tr>\n",
              "    <tr>\n",
              "      <th>4</th>\n",
              "      <td>1629638</td>\n",
              "      <td>Nickeil Alexander-Walker</td>\n",
              "      <td>Jazz</td>\n",
              "      <td>Guard</td>\n",
              "      <td>195</td>\n",
              "      <td>92</td>\n",
              "      <td>Canada</td>\n",
              "      <td>1998-09-02</td>\n",
              "      <td>3</td>\n",
              "      <td>17</td>\n",
              "      <td>158.0</td>\n",
              "      <td>19.4</td>\n",
              "      <td>9.3</td>\n",
              "      <td>2.6</td>\n",
              "      <td>2.2</td>\n",
              "      <td>0.7</td>\n",
              "      <td>0.3</td>\n",
              "      <td>2022-10-02</td>\n",
              "      <td>5009633</td>\n",
              "      <td>23 years, 11 months, 29 days</td>\n",
              "    </tr>\n",
              "    <tr>\n",
              "      <th>...</th>\n",
              "      <td>...</td>\n",
              "      <td>...</td>\n",
              "      <td>...</td>\n",
              "      <td>...</td>\n",
              "      <td>...</td>\n",
              "      <td>...</td>\n",
              "      <td>...</td>\n",
              "      <td>...</td>\n",
              "      <td>...</td>\n",
              "      <td>...</td>\n",
              "      <td>...</td>\n",
              "      <td>...</td>\n",
              "      <td>...</td>\n",
              "      <td>...</td>\n",
              "      <td>...</td>\n",
              "      <td>...</td>\n",
              "      <td>...</td>\n",
              "      <td>...</td>\n",
              "      <td>...</td>\n",
              "      <td>...</td>\n",
              "    </tr>\n",
              "    <tr>\n",
              "      <th>398</th>\n",
              "      <td>1630593</td>\n",
              "      <td>McKinley Wright IV</td>\n",
              "      <td>Mavericks</td>\n",
              "      <td>Guard</td>\n",
              "      <td>180</td>\n",
              "      <td>87</td>\n",
              "      <td>USA</td>\n",
              "      <td>1998-10-25</td>\n",
              "      <td>1</td>\n",
              "      <td>0</td>\n",
              "      <td>5.0</td>\n",
              "      <td>3.8</td>\n",
              "      <td>1.0</td>\n",
              "      <td>0.0</td>\n",
              "      <td>0.6</td>\n",
              "      <td>0.0</td>\n",
              "      <td>0.0</td>\n",
              "      <td>2022-10-05</td>\n",
              "      <td>1637966</td>\n",
              "      <td>23 years, 10 months, 6 days</td>\n",
              "    </tr>\n",
              "    <tr>\n",
              "      <th>399</th>\n",
              "      <td>201152</td>\n",
              "      <td>Thaddeus Young</td>\n",
              "      <td>Raptors</td>\n",
              "      <td>Forward</td>\n",
              "      <td>203</td>\n",
              "      <td>106</td>\n",
              "      <td>USA</td>\n",
              "      <td>1988-06-21</td>\n",
              "      <td>15</td>\n",
              "      <td>12</td>\n",
              "      <td>1085.0</td>\n",
              "      <td>29.3</td>\n",
              "      <td>12.8</td>\n",
              "      <td>5.8</td>\n",
              "      <td>1.8</td>\n",
              "      <td>1.4</td>\n",
              "      <td>0.4</td>\n",
              "      <td>2022-10-02</td>\n",
              "      <td>8000000</td>\n",
              "      <td>34 years, 2 months, 10 days</td>\n",
              "    </tr>\n",
              "    <tr>\n",
              "      <th>400</th>\n",
              "      <td>1629027</td>\n",
              "      <td>Trae Young</td>\n",
              "      <td>Hawks</td>\n",
              "      <td>Guard</td>\n",
              "      <td>185</td>\n",
              "      <td>74</td>\n",
              "      <td>USA</td>\n",
              "      <td>1998-09-19</td>\n",
              "      <td>4</td>\n",
              "      <td>5</td>\n",
              "      <td>280.0</td>\n",
              "      <td>33.6</td>\n",
              "      <td>25.3</td>\n",
              "      <td>3.9</td>\n",
              "      <td>9.1</td>\n",
              "      <td>0.9</td>\n",
              "      <td>0.2</td>\n",
              "      <td>2022-10-06</td>\n",
              "      <td>37096500</td>\n",
              "      <td>23 years, 11 months, 12 days</td>\n",
              "    </tr>\n",
              "    <tr>\n",
              "      <th>401</th>\n",
              "      <td>1630209</td>\n",
              "      <td>Omer Yurtseven</td>\n",
              "      <td>Heat</td>\n",
              "      <td>Center</td>\n",
              "      <td>210</td>\n",
              "      <td>124</td>\n",
              "      <td>Turkey</td>\n",
              "      <td>1998-06-19</td>\n",
              "      <td>1</td>\n",
              "      <td>0</td>\n",
              "      <td>56.0</td>\n",
              "      <td>12.6</td>\n",
              "      <td>5.3</td>\n",
              "      <td>5.3</td>\n",
              "      <td>0.9</td>\n",
              "      <td>0.3</td>\n",
              "      <td>0.4</td>\n",
              "      <td>2022-10-04</td>\n",
              "      <td>1752638</td>\n",
              "      <td>24 years, 2 months, 12 days</td>\n",
              "    </tr>\n",
              "    <tr>\n",
              "      <th>402</th>\n",
              "      <td>1627826</td>\n",
              "      <td>Ivica Zubac</td>\n",
              "      <td>Clippers</td>\n",
              "      <td>Center</td>\n",
              "      <td>213</td>\n",
              "      <td>108</td>\n",
              "      <td>Croatia</td>\n",
              "      <td>1997-03-18</td>\n",
              "      <td>6</td>\n",
              "      <td>32</td>\n",
              "      <td>360.0</td>\n",
              "      <td>19.0</td>\n",
              "      <td>8.3</td>\n",
              "      <td>6.5</td>\n",
              "      <td>1.1</td>\n",
              "      <td>0.3</td>\n",
              "      <td>0.8</td>\n",
              "      <td>2022-09-30</td>\n",
              "      <td>10123457</td>\n",
              "      <td>25 years, 5 months, 13 days</td>\n",
              "    </tr>\n",
              "  </tbody>\n",
              "</table>\n",
              "<p>403 rows × 20 columns</p>\n",
              "</div>\n",
              "      <button class=\"colab-df-convert\" onclick=\"convertToInteractive('df-83150446-ce67-490c-8a7a-52f0cddef1d8')\"\n",
              "              title=\"Convert this dataframe to an interactive table.\"\n",
              "              style=\"display:none;\">\n",
              "        \n",
              "  <svg xmlns=\"http://www.w3.org/2000/svg\" height=\"24px\"viewBox=\"0 0 24 24\"\n",
              "       width=\"24px\">\n",
              "    <path d=\"M0 0h24v24H0V0z\" fill=\"none\"/>\n",
              "    <path d=\"M18.56 5.44l.94 2.06.94-2.06 2.06-.94-2.06-.94-.94-2.06-.94 2.06-2.06.94zm-11 1L8.5 8.5l.94-2.06 2.06-.94-2.06-.94L8.5 2.5l-.94 2.06-2.06.94zm10 10l.94 2.06.94-2.06 2.06-.94-2.06-.94-.94-2.06-.94 2.06-2.06.94z\"/><path d=\"M17.41 7.96l-1.37-1.37c-.4-.4-.92-.59-1.43-.59-.52 0-1.04.2-1.43.59L10.3 9.45l-7.72 7.72c-.78.78-.78 2.05 0 2.83L4 21.41c.39.39.9.59 1.41.59.51 0 1.02-.2 1.41-.59l7.78-7.78 2.81-2.81c.8-.78.8-2.07 0-2.86zM5.41 20L4 18.59l7.72-7.72 1.47 1.35L5.41 20z\"/>\n",
              "  </svg>\n",
              "      </button>\n",
              "      \n",
              "  <style>\n",
              "    .colab-df-container {\n",
              "      display:flex;\n",
              "      flex-wrap:wrap;\n",
              "      gap: 12px;\n",
              "    }\n",
              "\n",
              "    .colab-df-convert {\n",
              "      background-color: #E8F0FE;\n",
              "      border: none;\n",
              "      border-radius: 50%;\n",
              "      cursor: pointer;\n",
              "      display: none;\n",
              "      fill: #1967D2;\n",
              "      height: 32px;\n",
              "      padding: 0 0 0 0;\n",
              "      width: 32px;\n",
              "    }\n",
              "\n",
              "    .colab-df-convert:hover {\n",
              "      background-color: #E2EBFA;\n",
              "      box-shadow: 0px 1px 2px rgba(60, 64, 67, 0.3), 0px 1px 3px 1px rgba(60, 64, 67, 0.15);\n",
              "      fill: #174EA6;\n",
              "    }\n",
              "\n",
              "    [theme=dark] .colab-df-convert {\n",
              "      background-color: #3B4455;\n",
              "      fill: #D2E3FC;\n",
              "    }\n",
              "\n",
              "    [theme=dark] .colab-df-convert:hover {\n",
              "      background-color: #434B5C;\n",
              "      box-shadow: 0px 1px 3px 1px rgba(0, 0, 0, 0.15);\n",
              "      filter: drop-shadow(0px 1px 2px rgba(0, 0, 0, 0.3));\n",
              "      fill: #FFFFFF;\n",
              "    }\n",
              "  </style>\n",
              "\n",
              "      <script>\n",
              "        const buttonEl =\n",
              "          document.querySelector('#df-83150446-ce67-490c-8a7a-52f0cddef1d8 button.colab-df-convert');\n",
              "        buttonEl.style.display =\n",
              "          google.colab.kernel.accessAllowed ? 'block' : 'none';\n",
              "\n",
              "        async function convertToInteractive(key) {\n",
              "          const element = document.querySelector('#df-83150446-ce67-490c-8a7a-52f0cddef1d8');\n",
              "          const dataTable =\n",
              "            await google.colab.kernel.invokeFunction('convertToInteractive',\n",
              "                                                     [key], {});\n",
              "          if (!dataTable) return;\n",
              "\n",
              "          const docLinkHtml = 'Like what you see? Visit the ' +\n",
              "            '<a target=\"_blank\" href=https://colab.research.google.com/notebooks/data_table.ipynb>data table notebook</a>'\n",
              "            + ' to learn more about interactive tables.';\n",
              "          element.innerHTML = '';\n",
              "          dataTable['output_type'] = 'display_data';\n",
              "          await google.colab.output.renderOutput(dataTable, element);\n",
              "          const docLink = document.createElement('div');\n",
              "          docLink.innerHTML = docLinkHtml;\n",
              "          element.appendChild(docLink);\n",
              "        }\n",
              "      </script>\n",
              "    </div>\n",
              "  </div>\n",
              "  "
            ]
          },
          "metadata": {},
          "execution_count": 54
        }
      ]
    },
    {
      "cell_type": "markdown",
      "id": "e098b76d-c520-474b-9998-a263354fe27b",
      "metadata": {
        "id": "e098b76d-c520-474b-9998-a263354fe27b"
      },
      "source": [
        "1.1. Plot all players statistics (\"PTS\", \"REB\", \"AST\",\"STL\",\"BLK\") against salary"
      ]
    },
    {
      "cell_type": "code",
      "execution_count": 6,
      "id": "50d589f1-25c1-48f8-88f3-e2c7f0e72625",
      "metadata": {
        "id": "50d589f1-25c1-48f8-88f3-e2c7f0e72625",
        "colab": {
          "base_uri": "https://localhost:8080/",
          "height": 1000
        },
        "outputId": "93c30fbc-ddc6-4927-f575-ce12c16febe6"
      },
      "outputs": [
        {
          "output_type": "display_data",
          "data": {
            "text/plain": [
              "<Figure size 436.125x360 with 1 Axes>"
            ],
            "image/png": "[encoded data removed]"
          },
          "metadata": {
            "needs_background": "light"
          }
        },
        {
          "output_type": "display_data",
          "data": {
            "text/plain": [
              "<Figure size 436.125x360 with 1 Axes>"
            ],
            "image/png": "[encoded data removed]"
          },
          "metadata": {
            "needs_background": "light"
          }
        },
        {
          "output_type": "display_data",
          "data": {
            "text/plain": [
              "<Figure size 436.125x360 with 1 Axes>"
            ],
            "image/png": "[encoded data removed]"
          },
          "metadata": {
            "needs_background": "light"
          }
        },
        {
          "output_type": "display_data",
          "data": {
            "text/plain": [
              "<Figure size 436.125x360 with 1 Axes>"
            ],
            "image/png": "[encoded data removed]"
          },
          "metadata": {
            "needs_background": "light"
          }
        },
        {
          "output_type": "display_data",
          "data": {
            "text/plain": [
              "<Figure size 436.125x360 with 1 Axes>"
            ],
            "image/png": "[encoded data removed]"
          },
          "metadata": {
            "needs_background": "light"
          }
        }
      ],
      "source": [
        "import seaborn as sns\n",
        "import matplotlib.pyplot as plt\n",
        "\n",
        "sns.lmplot(data=data1,x=\"PTS\", y=\"SALARY\", markers=\".\",hue='POSITION')\n",
        "ax = plt.gca()\n",
        "ax.set_title(\"'PTS' against SALARY\")\n",
        "sns.lmplot(data=data1,x=\"REB\", y=\"SALARY\", markers=\".\",hue='POSITION')\n",
        "ax = plt.gca()\n",
        "ax.set_title(\"'REB' against SALARY\")\n",
        "sns.lmplot(data=data1,x=\"AST\", y=\"SALARY\", markers=\".\",hue='POSITION')\n",
        "ax = plt.gca()\n",
        "ax.set_title(\"'AST' against SALARY\")\n",
        "sns.lmplot(data=data1,x=\"BLK\", y=\"SALARY\", markers=\".\",hue='POSITION')\n",
        "ax = plt.gca()\n",
        "ax.set_title(\"'BLK' against SALARY\")\n",
        "sns.lmplot(data=data1,x=\"STL\", y=\"SALARY\", markers=\".\",hue='POSITION')\n",
        "ax = plt.gca()\n",
        "ax.set_title(\"'STL' against SALARY\")\n",
        "plt.show()\n"
      ]
    },
    {
      "cell_type": "markdown",
      "id": "bbf0fe81-4aed-4dd9-8500-0919b4ec1e07",
      "metadata": {
        "id": "bbf0fe81-4aed-4dd9-8500-0919b4ec1e07"
      },
      "source": [
        "1.2. What can we say about these distributions?"
      ]
    },
    {
      "cell_type": "code",
      "execution_count": null,
      "id": "12b0fd30-0860-4ac3-8d52-5b072f1fd822",
      "metadata": {
        "id": "12b0fd30-0860-4ac3-8d52-5b072f1fd822",
        "colab": {
          "base_uri": "https://localhost:8080/"
        },
        "outputId": "1d7aa651-ccee-4c0e-85f2-2a7f21931a90"
      },
      "outputs": [
        {
          "output_type": "stream",
          "name": "stdout",
          "text": [
            " These distributions indicate that, in general, the strongest relationship\n",
            " among players stats and salary are \"PTS\". Also, we can notice that if we split the\n",
            " distributions by position we can deepen into the analysis of the other stats.\n",
            " We can conclude that the rest of statistics are related to a greater\n",
            " or lesser salary according to the playe position. In the following table we can conclude:\n",
            "\n",
            "  GENERAL\n",
            "  1 - PTS\n",
            "  2 - AST - REB\n",
            "  3 - BLK - STL\n",
            "  \n",
            "  GUARD\n",
            "  1 - PTS\n",
            "  2 - AST - STL\n",
            "  3 - BLK - REB\n",
            "  \n",
            "  FORWARD\n",
            "  1 - PTS\n",
            "  2 - AST - REB\n",
            "  3 - BLK - STL\n",
            "  \n",
            "  CENTER\n",
            "  1 - PTS\n",
            "  2 - BLK - REB \n",
            "  3 - AST - STL\n",
            "\n"
          ]
        }
      ],
      "source": [
        "text= (\n",
        "  f' These distributions indicate that, in general, the strongest relationship\\n among players stats and salary are \"PTS\".'\n",
        "  f' Also, we can notice that if we split the\\n distributions by position we can deepen into the analysis of the other stats.\\n'\n",
        "  f' We can conclude that the rest of statistics are related to a greater\\n or lesser salary according to the playe position.'\n",
        "  f' In the following table we can conclude:'\n",
        ")\n",
        "  \n",
        "  \n",
        "table =  \"\"\"\n",
        "  GENERAL\n",
        "  1 - PTS\n",
        "  2 - AST - REB\n",
        "  3 - BLK - STL\n",
        "  \n",
        "  GUARD\n",
        "  1 - PTS\n",
        "  2 - AST - STL\n",
        "  3 - BLK - REB\n",
        "  \n",
        "  FORWARD\n",
        "  1 - PTS\n",
        "  2 - AST - REB\n",
        "  3 - BLK - STL\n",
        "  \n",
        "  CENTER\n",
        "  1 - PTS\n",
        "  2 - BLK - REB \n",
        "  3 - AST - STL\n",
        "\"\"\"\n",
        "\n",
        "print(text)\n",
        "print(table)"
      ]
    },
    {
      "cell_type": "markdown",
      "id": "17735366-22bf-4cd8-a392-9dfb01652da0",
      "metadata": {
        "id": "17735366-22bf-4cd8-a392-9dfb01652da0"
      },
      "source": [
        "### Splitting the Dataset"
      ]
    },
    {
      "cell_type": "markdown",
      "id": "02450fb0-829c-420b-b65c-ea553a9a81a2",
      "metadata": {
        "id": "02450fb0-829c-420b-b65c-ea553a9a81a2"
      },
      "source": [
        "1.3. Split the dataset into train and testing sets. Use the Sklearn function for train/test splitting. Make sure to set the random state for reproducibility."
      ]
    },
    {
      "cell_type": "code",
      "execution_count": 7,
      "id": "d532e0fb-e478-48a0-971b-1ad1d428fe95",
      "metadata": {
        "id": "d532e0fb-e478-48a0-971b-1ad1d428fe95",
        "colab": {
          "base_uri": "https://localhost:8080/"
        },
        "outputId": "fb4def5c-1900-4b03-926e-2165ada63d62"
      },
      "outputs": [
        {
          "output_type": "stream",
          "name": "stdout",
          "text": [
            "x_train shape = (269, 20), x_test shape = (133, 20)\n",
            "y_train shape = (269,), y_test shape = (133,)\n"
          ]
        }
      ],
      "source": [
        "from sklearn.model_selection import train_test_split\n",
        "\n",
        "#split the dataset in 66/33 train and test\n",
        "x_train, x_test, y_train, y_test = train_test_split(data1,data1['SALARY'],test_size=0.33,random_state=42)\n",
        "print(f\"x_train shape = {x_train.shape}, x_test shape = {x_test.shape}\")\n",
        "print(f\"y_train shape = {y_train.shape}, y_test shape = {y_test.shape}\")"
      ]
    },
    {
      "cell_type": "markdown",
      "id": "6aec0deb-7efe-438c-8a4a-39f940aeb474",
      "metadata": {
        "id": "6aec0deb-7efe-438c-8a4a-39f940aeb474"
      },
      "source": [
        "### Baseline Model and Evaluation Metric"
      ]
    },
    {
      "cell_type": "markdown",
      "id": "40ca78ad-8dc1-4b13-99bd-27dcd138a809",
      "metadata": {
        "id": "40ca78ad-8dc1-4b13-99bd-27dcd138a809"
      },
      "source": [
        "In every project, we need a baseline model that implements a very simple algorithm or heuristic so we can compare our results with it. \n",
        "In this case, we could create a function that always returns the average player salary, evaluate that, and then compare the result with our modeling to see if we are improving. "
      ]
    },
    {
      "cell_type": "markdown",
      "id": "71a7eb29-2bdf-4faf-93e9-3206dbc9cca2",
      "metadata": {
        "id": "71a7eb29-2bdf-4faf-93e9-3206dbc9cca2"
      },
      "source": [
        "We need an evaluation metric to see how well our models fit the data. For this project we will use [Mean Absolute Error](https://scikit-learn.org/stable/modules/generated/sklearn.metrics.mean_absolute_error.html#sklearn.metrics.mean_absolute_error) as our regression evaluation metric, because it is a really simple metric to interpret. A lower value means the model performs better. \n",
        "\n",
        "For this particular problem, we will always round the value, as we don't need decimals for this task."
      ]
    },
    {
      "cell_type": "markdown",
      "id": "cefd619d-e6b0-4e70-acf8-f0f4a90fe896",
      "metadata": {
        "id": "cefd619d-e6b0-4e70-acf8-f0f4a90fe896"
      },
      "source": [
        "1.4. Create a Baseline model class that implements  fit() and predict() methods. As this model will not consider any other variable, the fit method should only receive a list of all players salaries. The predict method should receive and iterable and return a numpy array with the same length but every element should have the same value (the average salary)"
      ]
    },
    {
      "cell_type": "code",
      "source": [
        "import numpy as np"
      ],
      "metadata": {
        "id": "fe63Jhsgwzd8"
      },
      "id": "fe63Jhsgwzd8",
      "execution_count": 10,
      "outputs": []
    },
    {
      "cell_type": "code",
      "execution_count": 8,
      "id": "8ee01164-1ef2-44dc-8baa-74b630444577",
      "metadata": {
        "id": "8ee01164-1ef2-44dc-8baa-74b630444577"
      },
      "outputs": [],
      "source": [
        "class BaselineModel():\n",
        "    \"\"\"A baseline model that always returns the same value, the mean of the players salary in the train data\"\"\"\n",
        "    \n",
        "    def fit(self, y_train):\n",
        "        \"\"\"\n",
        "        Fit the training data. \n",
        "        \n",
        "        Parameters\n",
        "        ----------\n",
        "        y_train: Union[pd.Series, np.ndarray]\n",
        "            a pandas series or numpy array containing salary information\n",
        "        \"\"\"\n",
        "        self.mean = np.mean(y_train)\n",
        "    \n",
        "    def predict(self, X):\n",
        "        \"\"\"\n",
        "        Predict salaries \n",
        "        \n",
        "        Parameters\n",
        "        ----------\n",
        "        X: Union[pd.DataFrame, pd.Series, np.ndarray]\n",
        "            a pandas series, dataframe or numpy array with the \n",
        "            \n",
        "        Returns\n",
        "        -------\n",
        "        np.ndarray\n",
        "            a numpy array of the same length as X, with all elements equal to the mean salary calculated in fit()\n",
        "        \"\"\"\n",
        "        predict = [self.mean]* len(X.index)\n",
        "        predict = np.array(predict)\n",
        "        return predict"
      ]
    },
    {
      "cell_type": "markdown",
      "id": "6a1a8134-48a4-4c66-84d2-39030242ef5f",
      "metadata": {
        "id": "6a1a8134-48a4-4c66-84d2-39030242ef5f"
      },
      "source": [
        "1.5. Evaluate the performance of our BaselineModel on the test set using mean_absolute_error from Sklearn (round the result)"
      ]
    },
    {
      "cell_type": "code",
      "execution_count": 11,
      "id": "fb72f39b-e7fc-4cd8-bd23-ee4407a80eed",
      "metadata": {
        "id": "fb72f39b-e7fc-4cd8-bd23-ee4407a80eed",
        "colab": {
          "base_uri": "https://localhost:8080/"
        },
        "outputId": "b884c70b-63b9-4bdb-8554-51bb25108d8e"
      },
      "outputs": [
        {
          "output_type": "stream",
          "name": "stdout",
          "text": [
            "Mean absolute error of players salaries with baseline model: +/- U$S 9,058,478.0\n"
          ]
        }
      ],
      "source": [
        "from sklearn.metrics import mean_absolute_error\n",
        "\n",
        "#calculate baseline model prediction\n",
        "base = BaselineModel()\n",
        "BaselineModel.fit(base,y_train)\n",
        "y_pred_base = BaselineModel.predict(base,y_test)\n",
        "\n",
        "#evaluate model's performance\n",
        "baseline_mae = mean_absolute_error(y_test,y_pred_base).round(0)\n",
        "print(f'Mean absolute error of players salaries with baseline model: +/- U$S {baseline_mae:,}')"
      ]
    },
    {
      "cell_type": "markdown",
      "id": "fc4dff42-e36c-478d-bfd3-7541f3f36f16",
      "metadata": {
        "id": "fc4dff42-e36c-478d-bfd3-7541f3f36f16"
      },
      "source": [
        "### Regression with a single variable"
      ]
    },
    {
      "cell_type": "markdown",
      "id": "c9597b03-31fd-4a9c-8dad-9479666355cd",
      "metadata": {
        "id": "c9597b03-31fd-4a9c-8dad-9479666355cd"
      },
      "source": [
        "You're now going to start modeling data. We will start with a really simple approach, selecting just one variable, and doing a regression to see if we improve upon our baseline.\n"
      ]
    },
    {
      "cell_type": "markdown",
      "id": "af92eeac-cbfb-45cb-8626-246332c69624",
      "metadata": {
        "id": "af92eeac-cbfb-45cb-8626-246332c69624"
      },
      "source": [
        "1.6. Select the variable you think would provide the best fit. Perform feature scaling on this variable using a Sklearn scaler."
      ]
    },
    {
      "cell_type": "code",
      "execution_count": 12,
      "id": "173f1211-95e2-4bcb-ba7d-a40c516b4c24",
      "metadata": {
        "id": "173f1211-95e2-4bcb-ba7d-a40c516b4c24"
      },
      "outputs": [],
      "source": [
        "from sklearn.preprocessing import StandardScaler\n",
        "scaler = StandardScaler()\n",
        "\n",
        "#select PTS as the variable that would provide the best fit and scale it in test and transform\n",
        "x_train_scaled = scaler.fit_transform(x_train[['PTS']])\n",
        "x_test_scaled = scaler.transform(x_test[['PTS']])"
      ]
    },
    {
      "cell_type": "markdown",
      "id": "1c490e55-2bff-4a06-a01e-c6859d7edb52",
      "metadata": {
        "id": "1c490e55-2bff-4a06-a01e-c6859d7edb52"
      },
      "source": [
        "1.7. Train a model with [SGDRegressor](https://scikit-learn.org/stable/modules/generated/sklearn.linear_model.SGDRegressor.html) from Sklearn using the default parameters. Evaluate the model's performance on the test set using the selected metric."
      ]
    },
    {
      "cell_type": "code",
      "source": [
        "from sklearn.linear_model import SGDRegressor\n",
        "from sklearn.model_selection import cross_val_score\n",
        "from sklearn.metrics import mean_squared_error\n",
        "\n",
        "#declare SGD Regressor with default hyperparameters\n",
        "sgdr = SGDRegressor(random_state=42)  \n",
        "\n",
        "#fit the model on train data and predict on test\n",
        "sgdr.fit(x_train_scaled, y_train)\n",
        "y_pred_sgdr = sgdr.predict(x_test_scaled)\n",
        "\n",
        "#evaluate model's performance\n",
        "sgdr_default_mae = mean_absolute_error(y_test,y_pred_sgdr).round(0)\n",
        "print(f'Mean absolute error of players salaries with SGDRegressor model with default parameters : +/- U$S {sgdr_default_mae:,}')"
      ],
      "metadata": {
        "id": "ht-VwGDB29Ug",
        "colab": {
          "base_uri": "https://localhost:8080/"
        },
        "outputId": "25561914-b2fc-41ca-a0da-d5ee0dca8afd"
      },
      "id": "ht-VwGDB29Ug",
      "execution_count": 13,
      "outputs": [
        {
          "output_type": "stream",
          "name": "stdout",
          "text": [
            "Mean absolute error of players salaries with SGDRegressor model with default parameters : +/- U$S 5,458,070.0\n"
          ]
        }
      ]
    },
    {
      "cell_type": "markdown",
      "id": "e87147d9-5b57-4984-9f0d-e595cd6d15d3",
      "metadata": {
        "id": "e87147d9-5b57-4984-9f0d-e595cd6d15d3"
      },
      "source": [
        "1.8. Read the Sklearn documentation, and write a function that tries different configurations for the hyperparameters for training: epochs, learning rate and alpha. For each combination of parameters, evaluate the trained algorithm on the test set, then save the results of each hyperparameter combination, finally select the one that has the best MAE (meaning the lowest number) and print the combination and the MAE."
      ]
    },
    {
      "cell_type": "code",
      "execution_count": 14,
      "id": "9e1f26f4-1eb4-4ecc-bfc2-9d8583f00d0d",
      "metadata": {
        "id": "9e1f26f4-1eb4-4ecc-bfc2-9d8583f00d0d"
      },
      "outputs": [],
      "source": [
        "def search_best_hyperparameters_SGDRS(max_iter, eta_0):\n",
        "    result = {\n",
        "        \"hyperparameters\": {\"max_iter\": None, \"eta_0\": None}, \n",
        "        \"mae\": None,\n",
        "        \"y_pred\": None\n",
        "    }\n",
        "    for mi in max_iter:\n",
        "      for et in eta_0:\n",
        "        #define the regressor model by using the SGDRegressor class (SGD) \n",
        "        sgdr = SGDRegressor(max_iter=mi, eta0=et,random_state=42)\n",
        "        #fit the model on train data and check the model accuracy score\n",
        "        sgdr.fit(x_train_scaled, y_train)\n",
        "        #predicting and accuracy check\n",
        "        y_pred_sgdr_best = sgdr.predict(x_test_scaled)\n",
        "        mae_best = mean_absolute_error(y_test,y_pred_sgdr_best).round(0)\n",
        "        if result['mae'] == None:\n",
        "          result['hyperparameters']['max_iter']=mi\n",
        "          result['hyperparameters']['eta_0']=et\n",
        "          result['mae']= mae_best\n",
        "          result['y_pred']= y_pred_sgdr_best\n",
        "        elif result['mae'] > mae_best:\n",
        "          result['hyperparameters']['max_iter']=mi\n",
        "          result['hyperparameters']['eta_0']=et\n",
        "          result['mae']= mae_best\n",
        "          result['y_pred']= y_pred_sgdr_best\n",
        "    return result"
      ]
    },
    {
      "cell_type": "code",
      "execution_count": 15,
      "id": "95ffbb3b-d161-4a29-9c48-eaff18b82412",
      "metadata": {
        "id": "95ffbb3b-d161-4a29-9c48-eaff18b82412",
        "colab": {
          "base_uri": "https://localhost:8080/"
        },
        "outputId": "a4146371-3235-4753-bbe8-a130fa3429ff"
      },
      "outputs": [
        {
          "output_type": "stream",
          "name": "stdout",
          "text": [
            "{'max_iter': 100, 'eta_0': 0.1} 5457009.0\n"
          ]
        }
      ],
      "source": [
        "# Example list of hyperparameters values\n",
        "max_iter = [100,1000, 10000,100000,1000000,10000000]\n",
        "eta_0 = [0.00001,0.0001, 0.001, 0.01, 0.1,1]\n",
        "\n",
        "result = search_best_hyperparameters_SGDRS(max_iter, eta_0)\n",
        "print(result['hyperparameters'],result['mae'])"
      ]
    },
    {
      "cell_type": "markdown",
      "id": "776e0c7a-d592-4479-aec6-870edff61def",
      "metadata": {
        "id": "776e0c7a-d592-4479-aec6-870edff61def"
      },
      "source": [
        "1.9. Compare the results of the baseline, the SGDRegressor with default parameters and the one with the best combination of hyperparameters you could find. (replace variables with the ones you used)"
      ]
    },
    {
      "cell_type": "code",
      "execution_count": 16,
      "id": "2e520ef6-52ed-48dc-8450-03031f3a03a6",
      "metadata": {
        "id": "2e520ef6-52ed-48dc-8450-03031f3a03a6",
        "colab": {
          "base_uri": "https://localhost:8080/"
        },
        "outputId": "c8dbe9cd-9f4a-4a9a-cdd1-9883cebd17dc"
      },
      "outputs": [
        {
          "output_type": "stream",
          "name": "stdout",
          "text": [
            "Mean Absolute Error for each model:\n",
            "\n",
            "Baseline: +/- U$S 9,058,478.0\n",
            "Default SGDRegressor: +/- U$S 5,458,070.0\n",
            "Best SGDRegressor: US$ +/- 5,457,009.0 with 'Max_iter': 100 and 'eta_0': 0.1 \n"
          ]
        }
      ],
      "source": [
        "print(\"Mean Absolute Error for each model:\\n\")\n",
        "print(f\"Baseline: +/- U$S {baseline_mae:,}\")\n",
        "print(f\"Default SGDRegressor: +/- U$S {sgdr_default_mae:,}\")\n",
        "print(f\"Best SGDRegressor: US$ +/- {result['mae']:,} with 'Max_iter': {result['hyperparameters']['max_iter']:,} and 'eta_0': {result['hyperparameters']['eta_0']:,} \")"
      ]
    },
    {
      "cell_type": "markdown",
      "id": "19e281ec-d578-496d-9f5d-897a2e1986a2",
      "metadata": {
        "id": "19e281ec-d578-496d-9f5d-897a2e1986a2"
      },
      "source": [
        "### Multivariate Linear Regression"
      ]
    },
    {
      "cell_type": "markdown",
      "id": "4ff24d36-439a-478f-b0de-0021223f6e99",
      "metadata": {
        "id": "4ff24d36-439a-478f-b0de-0021223f6e99"
      },
      "source": [
        "To improve our model, we will add more features to it. We will have to do some processing to our dataset to be able to use the data.\n",
        "We'll start with the following variables:"
      ]
    },
    {
      "cell_type": "markdown",
      "id": "247f4716-496a-4040-9519-77f7a6839691",
      "metadata": {
        "id": "247f4716-496a-4040-9519-77f7a6839691"
      },
      "source": [
        "- Points\n",
        "- Rebounds\n",
        "- Assists\n",
        "- Blocks\n",
        "- Experience\n",
        "- Position\n",
        "- Draft Number\n"
      ]
    },
    {
      "cell_type": "markdown",
      "id": "7958f7ec-45a0-4deb-bb79-3daa756dbcca",
      "metadata": {
        "id": "7958f7ec-45a0-4deb-bb79-3daa756dbcca"
      },
      "source": [
        "1.10. Create a copy of the dataset generated in the first project that only has the following columns (and player id as an index):\n",
        "\n",
        "[\"PTS\", \"REB\", \"AST\", \"BLK\", \"SEASON_EXP\", \"POSITION\", \"DRAFT_NUMBER\", \"TEAM_NAME\", \"SALARY\"]"
      ]
    },
    {
      "cell_type": "code",
      "execution_count": 17,
      "id": "64b265b4-d4e5-40a6-a9c3-cce920ecaa1b",
      "metadata": {
        "id": "64b265b4-d4e5-40a6-a9c3-cce920ecaa1b",
        "colab": {
          "base_uri": "https://localhost:8080/",
          "height": 238
        },
        "outputId": "70d70052-54c5-4c72-9516-592d0b32e45e"
      },
      "outputs": [
        {
          "output_type": "execute_result",
          "data": {
            "text/plain": [
              "           TEAM_NAME POSITION  SEASON_EXP  DRAFT_NUMBER   PTS  REB  AST  BLK  \\\n",
              "PLAYER_ID                                                                      \n",
              "1630173      Raptors  Forward           2            20   7.2  5.1  0.8  0.5   \n",
              "203500     Grizzlies   Center           9            12   9.3  8.0  1.5  0.9   \n",
              "1628389         Heat   Center           5            14  13.5  8.3  3.5  0.9   \n",
              "1630583    Grizzlies  Forward           1            30   4.1  2.7  0.7  0.3   \n",
              "1629638         Jazz    Guard           3            17   9.3  2.6  2.2  0.3   \n",
              "\n",
              "             SALARY  \n",
              "PLAYER_ID            \n",
              "1630173     2840160  \n",
              "203500     17926829  \n",
              "1628389    30351780  \n",
              "1630583     2094120  \n",
              "1629638     5009633  "
            ],
            "text/html": [
              "\n",
              "  <div id=\"df-e35f3fdb-c9e6-4f74-ba78-238d91a5a7cf\">\n",
              "    <div class=\"colab-df-container\">\n",
              "      <div>\n",
              "<style scoped>\n",
              "    .dataframe tbody tr th:only-of-type {\n",
              "        vertical-align: middle;\n",
              "    }\n",
              "\n",
              "    .dataframe tbody tr th {\n",
              "        vertical-align: top;\n",
              "    }\n",
              "\n",
              "    .dataframe thead th {\n",
              "        text-align: right;\n",
              "    }\n",
              "</style>\n",
              "<table border=\"1\" class=\"dataframe\">\n",
              "  <thead>\n",
              "    <tr style=\"text-align: right;\">\n",
              "      <th></th>\n",
              "      <th>TEAM_NAME</th>\n",
              "      <th>POSITION</th>\n",
              "      <th>SEASON_EXP</th>\n",
              "      <th>DRAFT_NUMBER</th>\n",
              "      <th>PTS</th>\n",
              "      <th>REB</th>\n",
              "      <th>AST</th>\n",
              "      <th>BLK</th>\n",
              "      <th>SALARY</th>\n",
              "    </tr>\n",
              "    <tr>\n",
              "      <th>PLAYER_ID</th>\n",
              "      <th></th>\n",
              "      <th></th>\n",
              "      <th></th>\n",
              "      <th></th>\n",
              "      <th></th>\n",
              "      <th></th>\n",
              "      <th></th>\n",
              "      <th></th>\n",
              "      <th></th>\n",
              "    </tr>\n",
              "  </thead>\n",
              "  <tbody>\n",
              "    <tr>\n",
              "      <th>1630173</th>\n",
              "      <td>Raptors</td>\n",
              "      <td>Forward</td>\n",
              "      <td>2</td>\n",
              "      <td>20</td>\n",
              "      <td>7.2</td>\n",
              "      <td>5.1</td>\n",
              "      <td>0.8</td>\n",
              "      <td>0.5</td>\n",
              "      <td>2840160</td>\n",
              "    </tr>\n",
              "    <tr>\n",
              "      <th>203500</th>\n",
              "      <td>Grizzlies</td>\n",
              "      <td>Center</td>\n",
              "      <td>9</td>\n",
              "      <td>12</td>\n",
              "      <td>9.3</td>\n",
              "      <td>8.0</td>\n",
              "      <td>1.5</td>\n",
              "      <td>0.9</td>\n",
              "      <td>17926829</td>\n",
              "    </tr>\n",
              "    <tr>\n",
              "      <th>1628389</th>\n",
              "      <td>Heat</td>\n",
              "      <td>Center</td>\n",
              "      <td>5</td>\n",
              "      <td>14</td>\n",
              "      <td>13.5</td>\n",
              "      <td>8.3</td>\n",
              "      <td>3.5</td>\n",
              "      <td>0.9</td>\n",
              "      <td>30351780</td>\n",
              "    </tr>\n",
              "    <tr>\n",
              "      <th>1630583</th>\n",
              "      <td>Grizzlies</td>\n",
              "      <td>Forward</td>\n",
              "      <td>1</td>\n",
              "      <td>30</td>\n",
              "      <td>4.1</td>\n",
              "      <td>2.7</td>\n",
              "      <td>0.7</td>\n",
              "      <td>0.3</td>\n",
              "      <td>2094120</td>\n",
              "    </tr>\n",
              "    <tr>\n",
              "      <th>1629638</th>\n",
              "      <td>Jazz</td>\n",
              "      <td>Guard</td>\n",
              "      <td>3</td>\n",
              "      <td>17</td>\n",
              "      <td>9.3</td>\n",
              "      <td>2.6</td>\n",
              "      <td>2.2</td>\n",
              "      <td>0.3</td>\n",
              "      <td>5009633</td>\n",
              "    </tr>\n",
              "  </tbody>\n",
              "</table>\n",
              "</div>\n",
              "      <button class=\"colab-df-convert\" onclick=\"convertToInteractive('df-e35f3fdb-c9e6-4f74-ba78-238d91a5a7cf')\"\n",
              "              title=\"Convert this dataframe to an interactive table.\"\n",
              "              style=\"display:none;\">\n",
              "        \n",
              "  <svg xmlns=\"http://www.w3.org/2000/svg\" height=\"24px\"viewBox=\"0 0 24 24\"\n",
              "       width=\"24px\">\n",
              "    <path d=\"M0 0h24v24H0V0z\" fill=\"none\"/>\n",
              "    <path d=\"M18.56 5.44l.94 2.06.94-2.06 2.06-.94-2.06-.94-.94-2.06-.94 2.06-2.06.94zm-11 1L8.5 8.5l.94-2.06 2.06-.94-2.06-.94L8.5 2.5l-.94 2.06-2.06.94zm10 10l.94 2.06.94-2.06 2.06-.94-2.06-.94-.94-2.06-.94 2.06-2.06.94z\"/><path d=\"M17.41 7.96l-1.37-1.37c-.4-.4-.92-.59-1.43-.59-.52 0-1.04.2-1.43.59L10.3 9.45l-7.72 7.72c-.78.78-.78 2.05 0 2.83L4 21.41c.39.39.9.59 1.41.59.51 0 1.02-.2 1.41-.59l7.78-7.78 2.81-2.81c.8-.78.8-2.07 0-2.86zM5.41 20L4 18.59l7.72-7.72 1.47 1.35L5.41 20z\"/>\n",
              "  </svg>\n",
              "      </button>\n",
              "      \n",
              "  <style>\n",
              "    .colab-df-container {\n",
              "      display:flex;\n",
              "      flex-wrap:wrap;\n",
              "      gap: 12px;\n",
              "    }\n",
              "\n",
              "    .colab-df-convert {\n",
              "      background-color: #E8F0FE;\n",
              "      border: none;\n",
              "      border-radius: 50%;\n",
              "      cursor: pointer;\n",
              "      display: none;\n",
              "      fill: #1967D2;\n",
              "      height: 32px;\n",
              "      padding: 0 0 0 0;\n",
              "      width: 32px;\n",
              "    }\n",
              "\n",
              "    .colab-df-convert:hover {\n",
              "      background-color: #E2EBFA;\n",
              "      box-shadow: 0px 1px 2px rgba(60, 64, 67, 0.3), 0px 1px 3px 1px rgba(60, 64, 67, 0.15);\n",
              "      fill: #174EA6;\n",
              "    }\n",
              "\n",
              "    [theme=dark] .colab-df-convert {\n",
              "      background-color: #3B4455;\n",
              "      fill: #D2E3FC;\n",
              "    }\n",
              "\n",
              "    [theme=dark] .colab-df-convert:hover {\n",
              "      background-color: #434B5C;\n",
              "      box-shadow: 0px 1px 3px 1px rgba(0, 0, 0, 0.15);\n",
              "      filter: drop-shadow(0px 1px 2px rgba(0, 0, 0, 0.3));\n",
              "      fill: #FFFFFF;\n",
              "    }\n",
              "  </style>\n",
              "\n",
              "      <script>\n",
              "        const buttonEl =\n",
              "          document.querySelector('#df-e35f3fdb-c9e6-4f74-ba78-238d91a5a7cf button.colab-df-convert');\n",
              "        buttonEl.style.display =\n",
              "          google.colab.kernel.accessAllowed ? 'block' : 'none';\n",
              "\n",
              "        async function convertToInteractive(key) {\n",
              "          const element = document.querySelector('#df-e35f3fdb-c9e6-4f74-ba78-238d91a5a7cf');\n",
              "          const dataTable =\n",
              "            await google.colab.kernel.invokeFunction('convertToInteractive',\n",
              "                                                     [key], {});\n",
              "          if (!dataTable) return;\n",
              "\n",
              "          const docLinkHtml = 'Like what you see? Visit the ' +\n",
              "            '<a target=\"_blank\" href=https://colab.research.google.com/notebooks/data_table.ipynb>data table notebook</a>'\n",
              "            + ' to learn more about interactive tables.';\n",
              "          element.innerHTML = '';\n",
              "          dataTable['output_type'] = 'display_data';\n",
              "          await google.colab.output.renderOutput(dataTable, element);\n",
              "          const docLink = document.createElement('div');\n",
              "          docLink.innerHTML = docLinkHtml;\n",
              "          element.appendChild(docLink);\n",
              "        }\n",
              "      </script>\n",
              "    </div>\n",
              "  </div>\n",
              "  "
            ]
          },
          "metadata": {},
          "execution_count": 17
        }
      ],
      "source": [
        "#create a copy, fit columns, rename and assign index\n",
        "data2= data1.copy()\n",
        "data2= data2[[\"PLAYER_ID\",\"TEAM_NAME\",\"POSITION\",\"SEASON_EXP\",\"DRAFT_NUMBER\",\"PTS\", \"REB\", \"AST\", \"BLK\",\"SALARY\"]]\n",
        "data2= data2.set_index(\"PLAYER_ID\")\n",
        "data2.head()\n"
      ]
    },
    {
      "cell_type": "markdown",
      "id": "4865eb6e-d85d-4283-a67c-93df46a5b72e",
      "metadata": {
        "id": "4865eb6e-d85d-4283-a67c-93df46a5b72e"
      },
      "source": [
        "#### Feature Engineering"
      ]
    },
    {
      "cell_type": "markdown",
      "id": "ec9b71e8-57aa-405a-8b3b-b0585a45d64d",
      "metadata": {
        "id": "ec9b71e8-57aa-405a-8b3b-b0585a45d64d"
      },
      "source": [
        "1.11. Binning the DRAFT_NUMBER feature. Draft position directly impacts salaries during the first few years, but second round players and undrafted players don't have guaranteed contracts. So we're gonna divide the bins like this: \n",
        "\n",
        "       - 1 to 15: firstround_lottery\n",
        "       - 15 to 30: firstround_non_lottery\n",
        "       - 30 to 60: second_round\n",
        "       - Undrafted: undrafted\n",
        "       \n",
        "Create a new column named DRAFT using these 4 categories. Drop the draft number column."
      ]
    },
    {
      "cell_type": "code",
      "execution_count": 18,
      "id": "3ea6afa9-7df8-446c-b134-c832f3ca27b7",
      "metadata": {
        "id": "3ea6afa9-7df8-446c-b134-c832f3ca27b7",
        "colab": {
          "base_uri": "https://localhost:8080/"
        },
        "outputId": "81bbbf53-5f74-43b7-a94a-d455feabc801"
      },
      "outputs": [
        {
          "output_type": "stream",
          "name": "stdout",
          "text": [
            "firstround_lottery        146\n",
            "firstround_non_lottery     95\n",
            "second_round               87\n",
            "undrafted                  74\n",
            "Name: DRAFT, dtype: int64\n"
          ]
        }
      ],
      "source": [
        "#assign  0 (zero) to NaN values and 'Undrafted'\n",
        "data2['DRAFT_NUMBER']= data2['DRAFT_NUMBER'].fillna(0)\n",
        "data2['DRAFT_NUMBER']= data2['DRAFT_NUMBER'].replace(\"Undrafted\", 0).astype(np.int64)\n",
        "\n",
        "#binning DRAFT_NUMBER and creating a new column DRAFT with values\n",
        "draft_bins = [-1,0,15,30,60]\n",
        "draft_labels =[\"undrafted\",\"firstround_lottery\",\"firstround_non_lottery\",\"second_round\"]\n",
        "data2['DRAFT'] = pd.cut(data2['DRAFT_NUMBER'],bins=draft_bins,labels=draft_labels,include_lowest=True)\n",
        "\n",
        "#drop draft number column\n",
        "data2 = data2.drop(columns='DRAFT_NUMBER')\n",
        "\n",
        "print(data2['DRAFT'].value_counts())\n"
      ]
    },
    {
      "cell_type": "markdown",
      "id": "37a55237-cb04-4c38-bef3-8c363f9dbe5c",
      "metadata": {
        "id": "37a55237-cb04-4c38-bef3-8c363f9dbe5c"
      },
      "source": [
        "1.12. Encode the categorical features: DRAFT, POSITION and TEAM_NAME"
      ]
    },
    {
      "cell_type": "code",
      "source": [
        "data2 = pd.get_dummies(data2, columns=['DRAFT','POSITION','TEAM_NAME'],drop_first=True,prefix=['DRAFT:','POSITION:','TEAM:'])\n",
        "data2.head()"
      ],
      "metadata": {
        "id": "cqsWlOtGHWbC",
        "colab": {
          "base_uri": "https://localhost:8080/",
          "height": 348
        },
        "outputId": "5ba3657e-459b-43b2-922d-bea7458b1568"
      },
      "id": "cqsWlOtGHWbC",
      "execution_count": 19,
      "outputs": [
        {
          "output_type": "execute_result",
          "data": {
            "text/plain": [
              "           SEASON_EXP   PTS  REB  AST  BLK    SALARY  \\\n",
              "PLAYER_ID                                              \n",
              "1630173             2   7.2  5.1  0.8  0.5   2840160   \n",
              "203500              9   9.3  8.0  1.5  0.9  17926829   \n",
              "1628389             5  13.5  8.3  3.5  0.9  30351780   \n",
              "1630583             1   4.1  2.7  0.7  0.3   2094120   \n",
              "1629638             3   9.3  2.6  2.2  0.3   5009633   \n",
              "\n",
              "           DRAFT:_firstround_lottery  DRAFT:_firstround_non_lottery  \\\n",
              "PLAYER_ID                                                             \n",
              "1630173                            0                              1   \n",
              "203500                             1                              0   \n",
              "1628389                            1                              0   \n",
              "1630583                            0                              1   \n",
              "1629638                            0                              1   \n",
              "\n",
              "           DRAFT:_second_round  POSITION:_Forward  ...  TEAM:_Pistons  \\\n",
              "PLAYER_ID                                          ...                  \n",
              "1630173                      0                  1  ...              0   \n",
              "203500                       0                  0  ...              0   \n",
              "1628389                      0                  0  ...              0   \n",
              "1630583                      0                  1  ...              0   \n",
              "1629638                      0                  0  ...              0   \n",
              "\n",
              "           TEAM:_Raptors  TEAM:_Rockets  TEAM:_Spurs  TEAM:_Suns  \\\n",
              "PLAYER_ID                                                          \n",
              "1630173                1              0            0           0   \n",
              "203500                 0              0            0           0   \n",
              "1628389                0              0            0           0   \n",
              "1630583                0              0            0           0   \n",
              "1629638                0              0            0           0   \n",
              "\n",
              "           TEAM:_Thunder  TEAM:_Timberwolves  TEAM:_Trail Blazers  \\\n",
              "PLAYER_ID                                                           \n",
              "1630173                0                   0                    0   \n",
              "203500                 0                   0                    0   \n",
              "1628389                0                   0                    0   \n",
              "1630583                0                   0                    0   \n",
              "1629638                0                   0                    0   \n",
              "\n",
              "           TEAM:_Warriors  TEAM:_Wizards  \n",
              "PLAYER_ID                                 \n",
              "1630173                 0              0  \n",
              "203500                  0              0  \n",
              "1628389                 0              0  \n",
              "1630583                 0              0  \n",
              "1629638                 0              0  \n",
              "\n",
              "[5 rows x 40 columns]"
            ],
            "text/html": [
              "\n",
              "  <div id=\"df-9910b272-e648-4157-8541-0591ce8c642a\">\n",
              "    <div class=\"colab-df-container\">\n",
              "      <div>\n",
              "<style scoped>\n",
              "    .dataframe tbody tr th:only-of-type {\n",
              "        vertical-align: middle;\n",
              "    }\n",
              "\n",
              "    .dataframe tbody tr th {\n",
              "        vertical-align: top;\n",
              "    }\n",
              "\n",
              "    .dataframe thead th {\n",
              "        text-align: right;\n",
              "    }\n",
              "</style>\n",
              "<table border=\"1\" class=\"dataframe\">\n",
              "  <thead>\n",
              "    <tr style=\"text-align: right;\">\n",
              "      <th></th>\n",
              "      <th>SEASON_EXP</th>\n",
              "      <th>PTS</th>\n",
              "      <th>REB</th>\n",
              "      <th>AST</th>\n",
              "      <th>BLK</th>\n",
              "      <th>SALARY</th>\n",
              "      <th>DRAFT:_firstround_lottery</th>\n",
              "      <th>DRAFT:_firstround_non_lottery</th>\n",
              "      <th>DRAFT:_second_round</th>\n",
              "      <th>POSITION:_Forward</th>\n",
              "      <th>...</th>\n",
              "      <th>TEAM:_Pistons</th>\n",
              "      <th>TEAM:_Raptors</th>\n",
              "      <th>TEAM:_Rockets</th>\n",
              "      <th>TEAM:_Spurs</th>\n",
              "      <th>TEAM:_Suns</th>\n",
              "      <th>TEAM:_Thunder</th>\n",
              "      <th>TEAM:_Timberwolves</th>\n",
              "      <th>TEAM:_Trail Blazers</th>\n",
              "      <th>TEAM:_Warriors</th>\n",
              "      <th>TEAM:_Wizards</th>\n",
              "    </tr>\n",
              "    <tr>\n",
              "      <th>PLAYER_ID</th>\n",
              "      <th></th>\n",
              "      <th></th>\n",
              "      <th></th>\n",
              "      <th></th>\n",
              "      <th></th>\n",
              "      <th></th>\n",
              "      <th></th>\n",
              "      <th></th>\n",
              "      <th></th>\n",
              "      <th></th>\n",
              "      <th></th>\n",
              "      <th></th>\n",
              "      <th></th>\n",
              "      <th></th>\n",
              "      <th></th>\n",
              "      <th></th>\n",
              "      <th></th>\n",
              "      <th></th>\n",
              "      <th></th>\n",
              "      <th></th>\n",
              "      <th></th>\n",
              "    </tr>\n",
              "  </thead>\n",
              "  <tbody>\n",
              "    <tr>\n",
              "      <th>1630173</th>\n",
              "      <td>2</td>\n",
              "      <td>7.2</td>\n",
              "      <td>5.1</td>\n",
              "      <td>0.8</td>\n",
              "      <td>0.5</td>\n",
              "      <td>2840160</td>\n",
              "      <td>0</td>\n",
              "      <td>1</td>\n",
              "      <td>0</td>\n",
              "      <td>1</td>\n",
              "      <td>...</td>\n",
              "      <td>0</td>\n",
              "      <td>1</td>\n",
              "      <td>0</td>\n",
              "      <td>0</td>\n",
              "      <td>0</td>\n",
              "      <td>0</td>\n",
              "      <td>0</td>\n",
              "      <td>0</td>\n",
              "      <td>0</td>\n",
              "      <td>0</td>\n",
              "    </tr>\n",
              "    <tr>\n",
              "      <th>203500</th>\n",
              "      <td>9</td>\n",
              "      <td>9.3</td>\n",
              "      <td>8.0</td>\n",
              "      <td>1.5</td>\n",
              "      <td>0.9</td>\n",
              "      <td>17926829</td>\n",
              "      <td>1</td>\n",
              "      <td>0</td>\n",
              "      <td>0</td>\n",
              "      <td>0</td>\n",
              "      <td>...</td>\n",
              "      <td>0</td>\n",
              "      <td>0</td>\n",
              "      <td>0</td>\n",
              "      <td>0</td>\n",
              "      <td>0</td>\n",
              "      <td>0</td>\n",
              "      <td>0</td>\n",
              "      <td>0</td>\n",
              "      <td>0</td>\n",
              "      <td>0</td>\n",
              "    </tr>\n",
              "    <tr>\n",
              "      <th>1628389</th>\n",
              "      <td>5</td>\n",
              "      <td>13.5</td>\n",
              "      <td>8.3</td>\n",
              "      <td>3.5</td>\n",
              "      <td>0.9</td>\n",
              "      <td>30351780</td>\n",
              "      <td>1</td>\n",
              "      <td>0</td>\n",
              "      <td>0</td>\n",
              "      <td>0</td>\n",
              "      <td>...</td>\n",
              "      <td>0</td>\n",
              "      <td>0</td>\n",
              "      <td>0</td>\n",
              "      <td>0</td>\n",
              "      <td>0</td>\n",
              "      <td>0</td>\n",
              "      <td>0</td>\n",
              "      <td>0</td>\n",
              "      <td>0</td>\n",
              "      <td>0</td>\n",
              "    </tr>\n",
              "    <tr>\n",
              "      <th>1630583</th>\n",
              "      <td>1</td>\n",
              "      <td>4.1</td>\n",
              "      <td>2.7</td>\n",
              "      <td>0.7</td>\n",
              "      <td>0.3</td>\n",
              "      <td>2094120</td>\n",
              "      <td>0</td>\n",
              "      <td>1</td>\n",
              "      <td>0</td>\n",
              "      <td>1</td>\n",
              "      <td>...</td>\n",
              "      <td>0</td>\n",
              "      <td>0</td>\n",
              "      <td>0</td>\n",
              "      <td>0</td>\n",
              "      <td>0</td>\n",
              "      <td>0</td>\n",
              "      <td>0</td>\n",
              "      <td>0</td>\n",
              "      <td>0</td>\n",
              "      <td>0</td>\n",
              "    </tr>\n",
              "    <tr>\n",
              "      <th>1629638</th>\n",
              "      <td>3</td>\n",
              "      <td>9.3</td>\n",
              "      <td>2.6</td>\n",
              "      <td>2.2</td>\n",
              "      <td>0.3</td>\n",
              "      <td>5009633</td>\n",
              "      <td>0</td>\n",
              "      <td>1</td>\n",
              "      <td>0</td>\n",
              "      <td>0</td>\n",
              "      <td>...</td>\n",
              "      <td>0</td>\n",
              "      <td>0</td>\n",
              "      <td>0</td>\n",
              "      <td>0</td>\n",
              "      <td>0</td>\n",
              "      <td>0</td>\n",
              "      <td>0</td>\n",
              "      <td>0</td>\n",
              "      <td>0</td>\n",
              "      <td>0</td>\n",
              "    </tr>\n",
              "  </tbody>\n",
              "</table>\n",
              "<p>5 rows × 40 columns</p>\n",
              "</div>\n",
              "      <button class=\"colab-df-convert\" onclick=\"convertToInteractive('df-9910b272-e648-4157-8541-0591ce8c642a')\"\n",
              "              title=\"Convert this dataframe to an interactive table.\"\n",
              "              style=\"display:none;\">\n",
              "        \n",
              "  <svg xmlns=\"http://www.w3.org/2000/svg\" height=\"24px\"viewBox=\"0 0 24 24\"\n",
              "       width=\"24px\">\n",
              "    <path d=\"M0 0h24v24H0V0z\" fill=\"none\"/>\n",
              "    <path d=\"M18.56 5.44l.94 2.06.94-2.06 2.06-.94-2.06-.94-.94-2.06-.94 2.06-2.06.94zm-11 1L8.5 8.5l.94-2.06 2.06-.94-2.06-.94L8.5 2.5l-.94 2.06-2.06.94zm10 10l.94 2.06.94-2.06 2.06-.94-2.06-.94-.94-2.06-.94 2.06-2.06.94z\"/><path d=\"M17.41 7.96l-1.37-1.37c-.4-.4-.92-.59-1.43-.59-.52 0-1.04.2-1.43.59L10.3 9.45l-7.72 7.72c-.78.78-.78 2.05 0 2.83L4 21.41c.39.39.9.59 1.41.59.51 0 1.02-.2 1.41-.59l7.78-7.78 2.81-2.81c.8-.78.8-2.07 0-2.86zM5.41 20L4 18.59l7.72-7.72 1.47 1.35L5.41 20z\"/>\n",
              "  </svg>\n",
              "      </button>\n",
              "      \n",
              "  <style>\n",
              "    .colab-df-container {\n",
              "      display:flex;\n",
              "      flex-wrap:wrap;\n",
              "      gap: 12px;\n",
              "    }\n",
              "\n",
              "    .colab-df-convert {\n",
              "      background-color: #E8F0FE;\n",
              "      border: none;\n",
              "      border-radius: 50%;\n",
              "      cursor: pointer;\n",
              "      display: none;\n",
              "      fill: #1967D2;\n",
              "      height: 32px;\n",
              "      padding: 0 0 0 0;\n",
              "      width: 32px;\n",
              "    }\n",
              "\n",
              "    .colab-df-convert:hover {\n",
              "      background-color: #E2EBFA;\n",
              "      box-shadow: 0px 1px 2px rgba(60, 64, 67, 0.3), 0px 1px 3px 1px rgba(60, 64, 67, 0.15);\n",
              "      fill: #174EA6;\n",
              "    }\n",
              "\n",
              "    [theme=dark] .colab-df-convert {\n",
              "      background-color: #3B4455;\n",
              "      fill: #D2E3FC;\n",
              "    }\n",
              "\n",
              "    [theme=dark] .colab-df-convert:hover {\n",
              "      background-color: #434B5C;\n",
              "      box-shadow: 0px 1px 3px 1px rgba(0, 0, 0, 0.15);\n",
              "      filter: drop-shadow(0px 1px 2px rgba(0, 0, 0, 0.3));\n",
              "      fill: #FFFFFF;\n",
              "    }\n",
              "  </style>\n",
              "\n",
              "      <script>\n",
              "        const buttonEl =\n",
              "          document.querySelector('#df-9910b272-e648-4157-8541-0591ce8c642a button.colab-df-convert');\n",
              "        buttonEl.style.display =\n",
              "          google.colab.kernel.accessAllowed ? 'block' : 'none';\n",
              "\n",
              "        async function convertToInteractive(key) {\n",
              "          const element = document.querySelector('#df-9910b272-e648-4157-8541-0591ce8c642a');\n",
              "          const dataTable =\n",
              "            await google.colab.kernel.invokeFunction('convertToInteractive',\n",
              "                                                     [key], {});\n",
              "          if (!dataTable) return;\n",
              "\n",
              "          const docLinkHtml = 'Like what you see? Visit the ' +\n",
              "            '<a target=\"_blank\" href=https://colab.research.google.com/notebooks/data_table.ipynb>data table notebook</a>'\n",
              "            + ' to learn more about interactive tables.';\n",
              "          element.innerHTML = '';\n",
              "          dataTable['output_type'] = 'display_data';\n",
              "          await google.colab.output.renderOutput(dataTable, element);\n",
              "          const docLink = document.createElement('div');\n",
              "          docLink.innerHTML = docLinkHtml;\n",
              "          element.appendChild(docLink);\n",
              "        }\n",
              "      </script>\n",
              "    </div>\n",
              "  </div>\n",
              "  "
            ]
          },
          "metadata": {},
          "execution_count": 19
        }
      ]
    },
    {
      "cell_type": "markdown",
      "id": "9816d9d4-b44d-4bb7-9cad-156daee9dc50",
      "metadata": {
        "id": "9816d9d4-b44d-4bb7-9cad-156daee9dc50"
      },
      "source": [
        "#### Modeling"
      ]
    },
    {
      "cell_type": "markdown",
      "id": "1eb528f1-852e-428e-b97c-40b412985f98",
      "metadata": {
        "id": "1eb528f1-852e-428e-b97c-40b412985f98"
      },
      "source": [
        "1.13. Split the dataset into train and test"
      ]
    },
    {
      "cell_type": "code",
      "execution_count": 21,
      "id": "7696efd0-94f8-49ce-846f-4fd24a01b0fd",
      "metadata": {
        "id": "7696efd0-94f8-49ce-846f-4fd24a01b0fd",
        "colab": {
          "base_uri": "https://localhost:8080/"
        },
        "outputId": "d2d6d524-ff73-48be-9799-d83f83db87b3"
      },
      "outputs": [
        {
          "output_type": "stream",
          "name": "stdout",
          "text": [
            "data2_x_train shape = (269, 39), data2_x_test shape = (133, 39)\n",
            "data2_y_train shape = (269,), data2_y_test shape = (133,)\n"
          ]
        }
      ],
      "source": [
        "#split the dataset in 66/33 train and test with same random_state\n",
        "data2_x_train, data2_x_test, data2_y_train, data2_y_test = train_test_split(data2,data2['SALARY'],test_size=0.33,random_state=42)\n",
        "\n",
        "#dropping unnecesary columns in train data\n",
        "data2_x_train.drop(columns='SALARY',inplace=True)\n",
        "data2_x_test.drop(columns='SALARY',inplace=True)\n",
        "\n",
        "print(f\"data2_x_train shape = {data2_x_train.shape}, data2_x_test shape = {data2_x_test.shape}\")\n",
        "print(f\"data2_y_train shape = {data2_y_train.shape}, data2_y_test shape = {data2_y_test.shape}\")"
      ]
    },
    {
      "cell_type": "markdown",
      "id": "b2540df8-ac16-4ad1-b8cf-028f566faa06",
      "metadata": {
        "id": "b2540df8-ac16-4ad1-b8cf-028f566faa06"
      },
      "source": [
        "1.14. Perform feature scaling in all the numerical features (\"PTS\", \"REB\", \"AST\", \"BLK\", \"SEASON_EXP\") except for draft number"
      ]
    },
    {
      "cell_type": "code",
      "execution_count": 22,
      "id": "94c1b356-8f74-4a20-8b9d-9dd61b6e3dec",
      "metadata": {
        "id": "94c1b356-8f74-4a20-8b9d-9dd61b6e3dec"
      },
      "outputs": [],
      "source": [
        "from sklearn.preprocessing import StandardScaler\n",
        "scaler = StandardScaler()\n",
        "\n",
        "features = ['PTS','REB','AST','BLK','SEASON_EXP']\n",
        "\n",
        "for feature in features:\n",
        "    data2_x_train[feature] = scaler.fit_transform(data2_x_train[[feature]])\n",
        "    data2_x_test[feature]= scaler.transform(data2_x_test[[feature]])"
      ]
    },
    {
      "cell_type": "markdown",
      "id": "7790c25a-b516-4e3f-b311-6e5b026bfb80",
      "metadata": {
        "id": "7790c25a-b516-4e3f-b311-6e5b026bfb80"
      },
      "source": [
        "1.15. Write a function to train a SGDRegressor model with the new dataset, trying different hyperparameters, and selecting the one that performs the best."
      ]
    },
    {
      "cell_type": "code",
      "execution_count": 23,
      "id": "7d8642f3-895c-4d8d-85b7-80a087a0adef",
      "metadata": {
        "id": "7d8642f3-895c-4d8d-85b7-80a087a0adef"
      },
      "outputs": [],
      "source": [
        "def search_best_hyperparameters_SGDRM(max_iter, eta_0,alpha):\n",
        "    result = {\n",
        "        \"hyperparameters\": {\"max_iter\": None, \"eta_0\": None , \"alpha\": None}, \n",
        "        \"mae\": None,\n",
        "        \"y_pred\": None\n",
        "    }\n",
        "    for mi in max_iter:\n",
        "      for et in eta_0:\n",
        "        for al in alpha:\n",
        "          #define the regressor model by using the SGDRegressor class (SGD) \n",
        "          sgdr = SGDRegressor(max_iter=mi, eta0=et,alpha=al,random_state=42)\n",
        "          #fit the model on train data and check the model accuracy score\n",
        "          sgdr.fit(data2_x_train, data2_y_train)\n",
        "          #predicting and accuracy check\n",
        "          y_pred_multi = sgdr.predict(data2_x_test)\n",
        "          mae_best_multi = mean_absolute_error(data2_y_test,y_pred_multi).round(0)\n",
        "          if result['mae'] == None:\n",
        "            result['hyperparameters']['max_iter']=mi\n",
        "            result['hyperparameters']['eta_0']=et\n",
        "            result['hyperparameters']['alpha']=al\n",
        "            result['mae']= mae_best_multi\n",
        "            result['y_pred']= y_pred_multi\n",
        "          elif result['mae'] > mae_best_multi:\n",
        "            result['hyperparameters']['max_iter']=mi\n",
        "            result['hyperparameters']['eta_0']=et\n",
        "            result['hyperparameters']['alpha']=al\n",
        "            result['mae']= mae_best_multi\n",
        "            result['y_pred']= y_pred_multi\n",
        "    return result"
      ]
    },
    {
      "cell_type": "code",
      "source": [
        "max_iter = [1000,1500,2000,2400,2450,2480,3000]\n",
        "eta_0 = [0.1,0.05,0.01,0.005]\n",
        "alpha = [0.0001,0.001,0.01,0.05,0.1,1,2]\n",
        "\n",
        "mae_best_multi = search_best_hyperparameters_SGDRM(max_iter, eta_0,alpha)\n",
        "print(mae_best_multi['hyperparameters'],mae_best_multi['mae'])"
      ],
      "metadata": {
        "id": "6qmr5whALw77",
        "colab": {
          "base_uri": "https://localhost:8080/"
        },
        "outputId": "34a9e15c-82bd-448d-9991-03461eae5b47"
      },
      "id": "6qmr5whALw77",
      "execution_count": 24,
      "outputs": [
        {
          "output_type": "stream",
          "name": "stdout",
          "text": [
            "{'max_iter': 1000, 'eta_0': 0.05, 'alpha': 0.1} 5300394.0\n"
          ]
        }
      ]
    },
    {
      "cell_type": "markdown",
      "id": "33d63bc7-448d-40a6-a314-6602c75e2284",
      "metadata": {
        "id": "33d63bc7-448d-40a6-a314-6602c75e2284"
      },
      "source": [
        "1.16. How did the model performed compared to our univariate models? "
      ]
    },
    {
      "cell_type": "code",
      "execution_count": 25,
      "id": "b8dc264b-1fde-4de3-9099-a526210075fa",
      "metadata": {
        "id": "b8dc264b-1fde-4de3-9099-a526210075fa",
        "colab": {
          "base_uri": "https://localhost:8080/"
        },
        "outputId": "9b34baaa-5938-4a09-fc7c-5b7c652a8c70"
      },
      "outputs": [
        {
          "output_type": "stream",
          "name": "stdout",
          "text": [
            "Mean Absolute Error for each model:\n",
            "\n",
            "Baseline: +/- U$S 9,058,478.0\n",
            "Default SGDRegressor: +/- U$S 5,458,070.0\n",
            "Best SGDRegressor: +/- U$S 5,457,009.0 with 'Max_iter': 100 and 'eta_0': 0.1 \n",
            "Best SGDRegressor_Multi-Feature: +/- U$S 5,300,394.0 with 'Max_iter': 1,000,'eta_0': 0.05 and 'alpha': 0.1 \n"
          ]
        }
      ],
      "source": [
        "print(\"Mean Absolute Error for each model:\\n\")\n",
        "print(f\"Baseline: +/- U$S {baseline_mae:,}\")\n",
        "print(f\"Default SGDRegressor: +/- U$S {sgdr_default_mae:,}\")\n",
        "print(f\"Best SGDRegressor: +/- U$S {result['mae']:,} with 'Max_iter': {result['hyperparameters']['max_iter']:,} and 'eta_0': {result['hyperparameters']['eta_0']:,} \")\n",
        "print(f\"Best SGDRegressor_Multi-Feature: +/- U$S {mae_best_multi['mae']:,} with 'Max_iter': {mae_best_multi['hyperparameters']['max_iter']:,},'eta_0': {mae_best_multi['hyperparameters']['eta_0']:,} and 'alpha': {mae_best_multi['hyperparameters']['alpha']:,} \")"
      ]
    },
    {
      "cell_type": "markdown",
      "id": "e9992197-563b-4a69-9cd7-97fcb9ee3677",
      "metadata": {
        "tags": [],
        "id": "e9992197-563b-4a69-9cd7-97fcb9ee3677"
      },
      "source": [
        "### DecisionTreeRegressor\n",
        "\n",
        "It is possible that this problem might not be easily resolvable by a linear model, or that there could be better types of algorithms to tackle it. As an example, let's try with a very used algorithm, a Decision Tree.\n",
        "\n"
      ]
    },
    {
      "cell_type": "markdown",
      "id": "61930247-d4b0-4bdf-ad98-a421457e2c4a",
      "metadata": {
        "id": "61930247-d4b0-4bdf-ad98-a421457e2c4a"
      },
      "source": [
        "1.17. Create new model using [DecisionTreeRegressor](https://scikit-learn.org/stable/auto_examples/tree/plot_tree_regression.html) from scikit learn. We will use again all variables, and try different configuration for the following hyperparameters:\n",
        "\n",
        "- max_depth\n",
        "- min_samples_leaf\n",
        "- max_features\n",
        "\n",
        "These are all regularization hyperparameters for this algorithm. Read the documentation to get a better grasp of what each one does."
      ]
    },
    {
      "cell_type": "code",
      "source": [
        "from sklearn.tree import DecisionTreeRegressor\n",
        "dtr = DecisionTreeRegressor"
      ],
      "metadata": {
        "id": "v24T9ctHRVI_"
      },
      "id": "v24T9ctHRVI_",
      "execution_count": 26,
      "outputs": []
    },
    {
      "cell_type": "code",
      "source": [
        "def search_best_hyperparameters_DTR(max_depth, min_samples_leaf,max_features):\n",
        "    result = {\n",
        "        \"hyperparameters\": {\"max_depth\": None, \n",
        "                            \"min_samples_leaf\": None , \n",
        "                            \"max_features\": None}, \n",
        "        \"mae\": None,\n",
        "        \"y_pred\": None\n",
        "    }\n",
        "    for md in max_depth: \n",
        "      for ml in min_samples_leaf:\n",
        "        for mf in max_features:\n",
        "          dtr = DecisionTreeRegressor(max_depth=md, min_samples_leaf=ml,max_features=mf,random_state=42)\n",
        "          #fit the model on train data and check the model accuracy score\n",
        "          dtr.fit(data2_x_train, data2_y_train)\n",
        "          #predicting and accuracy check\n",
        "          y_pred_dtr = dtr.predict(data2_x_test)\n",
        "          mae_best = mean_absolute_error(data2_y_test,y_pred_dtr).round(0)\n",
        "          if result['mae'] == None:\n",
        "            result['hyperparameters']['max_depth']=md\n",
        "            result['hyperparameters']['min_samples_leaf']=ml\n",
        "            result['hyperparameters']['max_features']=mf\n",
        "            result['mae']= mae_best\n",
        "            result['y_pred']= y_pred_dtr\n",
        "          elif result['mae'] > mae_best:\n",
        "            result['hyperparameters']['max_depth']=md\n",
        "            result['hyperparameters']['min_samples_leaf']=ml\n",
        "            result['hyperparameters']['max_features']=mf\n",
        "            result['mae']= mae_best\n",
        "            result['y_pred']= y_pred_dtr\n",
        "    return result"
      ],
      "metadata": {
        "id": "UoTT5mYFRZQb"
      },
      "id": "UoTT5mYFRZQb",
      "execution_count": 27,
      "outputs": []
    },
    {
      "cell_type": "code",
      "execution_count": 28,
      "id": "d393cdae-c2d7-40a0-a518-19f007edb242",
      "metadata": {
        "id": "d393cdae-c2d7-40a0-a518-19f007edb242",
        "colab": {
          "base_uri": "https://localhost:8080/"
        },
        "outputId": "12f61128-0fd5-4f47-959b-b6544ab87792"
      },
      "outputs": [
        {
          "output_type": "stream",
          "name": "stdout",
          "text": [
            "{'max_depth': 15, 'min_samples_leaf': 2, 'max_features': 20} 3838856.0\n"
          ]
        }
      ],
      "source": [
        "max_depth = [2,5,7,10, 15, 20, 50]\n",
        "min_samples_leaf = [2, 10,12,15,20,25,30, 50]\n",
        "max_features = [1,2,10,20,30]\n",
        "\n",
        "mae_best_dtr_multi = search_best_hyperparameters_DTR(max_depth, min_samples_leaf,max_features)\n",
        "print(mae_best_dtr_multi['hyperparameters'],mae_best_dtr_multi['mae'])"
      ]
    },
    {
      "cell_type": "markdown",
      "id": "71ef72fc-7386-433c-9725-2055f4016ae9",
      "metadata": {
        "id": "71ef72fc-7386-433c-9725-2055f4016ae9"
      },
      "source": [
        "1.18. Compare the results obtained with the best decision tree model against the baseline, default and the best params sgd regressors-"
      ]
    },
    {
      "cell_type": "code",
      "execution_count": 29,
      "id": "af1084d8-97a4-4618-b4f4-0952e0b39f09",
      "metadata": {
        "id": "af1084d8-97a4-4618-b4f4-0952e0b39f09",
        "colab": {
          "base_uri": "https://localhost:8080/"
        },
        "outputId": "bc8e3f07-772b-4131-b48f-9c47c2402926"
      },
      "outputs": [
        {
          "output_type": "stream",
          "name": "stdout",
          "text": [
            "Mean Absolute Error for each model:\n",
            "\n",
            "Baseline: +/- U$S 9,058,478.0\n",
            "Default SGDRegressor: +/- U$S 5,458,070.0\n",
            "Best SGDRegressor: +/- U$S 5,457,009.0 with 'Max_iter': 100 and 'eta_0': 0.1 \n",
            "Best SGDRegressor_Multi-Feature: +/- U$S 5,300,394.0 with 'Max_iter': 1,000,'eta_0': 0.05 and 'alpha': 0.1 \n",
            "Best DTR_Multi-Feature: +/- U$S 3,838,856.0 with 'Max_depth': 15,'min_samples_leaf': 2 and 'max_features': 20 \n"
          ]
        }
      ],
      "source": [
        "print(\"Mean Absolute Error for each model:\\n\")\n",
        "print(f\"Baseline: +/- U$S {baseline_mae:,}\")\n",
        "print(f\"Default SGDRegressor: +/- U$S {sgdr_default_mae:,}\")\n",
        "print(f\"Best SGDRegressor: +/- U$S {result['mae']:,} with 'Max_iter': {result['hyperparameters']['max_iter']:,} and 'eta_0': {result['hyperparameters']['eta_0']:,} \")\n",
        "print(f\"Best SGDRegressor_Multi-Feature: +/- U$S {mae_best_multi['mae']:,} with 'Max_iter': {mae_best_multi['hyperparameters']['max_iter']:,},'eta_0': {mae_best_multi['hyperparameters']['eta_0']:,} and 'alpha': {mae_best_multi['hyperparameters']['alpha']:,} \")\n",
        "print(f\"Best DTR_Multi-Feature: +/- U$S {mae_best_dtr_multi['mae']:,} with 'Max_depth': {mae_best_dtr_multi['hyperparameters']['max_depth']:,},'min_samples_leaf': {mae_best_dtr_multi['hyperparameters']['min_samples_leaf']:,} and 'max_features': {mae_best_dtr_multi['hyperparameters']['max_features']:,} \")"
      ]
    },
    {
      "cell_type": "code",
      "source": [
        "#create subplots\n",
        "fig, (ax1, ax2, ax3, ax4, ax5) = plt.subplots(1, 5,figsize=(25,5))\n",
        "fig.suptitle('Regression models comparison',fontsize= 15,y=1.1)\n",
        "\n",
        "#plot test vs baseline model\n",
        "x_ax = range(len(y_test))\n",
        "ax1.plot(x_ax, y_test, linewidth=1, label=\"original\")\n",
        "ax1.plot(x_ax,  y_pred_base, linewidth=1.1, label=\"predicted\")\n",
        "ax1.set_title(\"Test vs Baseline predicted Salary\",pad=25)\n",
        "ax1.legend(loc='best',fancybox=True, shadow=True)\n",
        " \n",
        "#plot test vs SGDR default model\n",
        "ax2.plot(x_ax, y_test, linewidth=1, label=\"original\")\n",
        "ax2.plot(x_ax,  y_pred_sgdr, linewidth=1.1, label=\"predicted\")\n",
        "ax2.set_title(\"Test vs Default SGDR predicted salary\",pad=25)\n",
        "ax2.legend(loc='best',fancybox=True, shadow=True)\n",
        "\n",
        "#plot test vs Best SGDR model\n",
        "ax3.plot(x_ax, y_test, linewidth=1, label=\"original\")\n",
        "ax3.plot(x_ax,  result['y_pred'], linewidth=1.1, label=\"predicted\")\n",
        "ax3.set_title(\"Test vs Best SGDR Single predicted salary\",pad=25)\n",
        "ax3.legend(loc='best',fancybox=True, shadow=True)\n",
        "\n",
        "#plot test vs Best SGDR Multi model\n",
        "ax4.plot(x_ax, y_test, linewidth=1, label=\"original\")\n",
        "ax4.plot(x_ax,  mae_best_multi['y_pred'], linewidth=1.1, label=\"predicted\")\n",
        "ax4.set_title(\"Test vs Best SGDR Multi predicted salary\",pad=25)\n",
        "ax4.legend(loc='best',fancybox=True, shadow=True)\n",
        "\n",
        "#plot test vs Best DTR Multi model\n",
        "ax5.plot(x_ax, y_test, linewidth=1, label=\"original\")\n",
        "ax5.plot(x_ax,  mae_best_dtr_multi['y_pred'], linewidth=1.1, label=\"predicted\")\n",
        "ax5.set_title(\"Test vs Best DTR Multi predicted salary\",pad=25)\n",
        "ax5.legend(loc='best',fancybox=True, shadow=True)\n",
        "plt.show()"
      ],
      "metadata": {
        "id": "ftZ5lTBoSY2Z",
        "colab": {
          "base_uri": "https://localhost:8080/",
          "height": 351
        },
        "outputId": "fa1aa8df-0461-4dc7-a80b-9c4261dc428e"
      },
      "id": "ftZ5lTBoSY2Z",
      "execution_count": 30,
      "outputs": [
        {
          "output_type": "display_data",
          "data": {
            "text/plain": [
              "<Figure size 1800x360 with 5 Axes>"
            ],
            "image/png": "[encoded data removed]"
          },
          "metadata": {
            "needs_background": "light"
          }
        }
      ]
    },
    {
      "cell_type": "markdown",
      "id": "ce424a87-37af-470d-9a14-ec6ae2258eb1",
      "metadata": {
        "id": "ce424a87-37af-470d-9a14-ec6ae2258eb1"
      },
      "source": [
        "### Analyzing our results"
      ]
    },
    {
      "cell_type": "markdown",
      "id": "ed6c9746-ed98-4075-9a6a-adb24056d217",
      "metadata": {
        "id": "ed6c9746-ed98-4075-9a6a-adb24056d217"
      },
      "source": [
        "Based on what you found, and what you read about players salaries above, answer the following: "
      ]
    },
    {
      "cell_type": "markdown",
      "id": "e204456d-cb86-47a0-9c3c-6307d8a831fa",
      "metadata": {
        "id": "e204456d-cb86-47a0-9c3c-6307d8a831fa"
      },
      "source": [
        "1.19. Which kind of model worked better in this dataset, linear or non linear models? Do you have any hypothesis about why? "
      ]
    },
    {
      "cell_type": "code",
      "execution_count": 31,
      "id": "7f384324-76df-435c-97f5-57ccfd25157a",
      "metadata": {
        "id": "7f384324-76df-435c-97f5-57ccfd25157a",
        "colab": {
          "base_uri": "https://localhost:8080/"
        },
        "outputId": "7e85f85c-b650-4edd-fb0e-46b258b4300a"
      },
      "outputs": [
        {
          "output_type": "stream",
          "name": "stdout",
          "text": [
            "Decision Tree Regressor was the model who worked better in this dataset to\n",
            "predict the dependent variable so I can conclude that non linear models fit the best.\n",
            "The nonlinear model provides a better fit because it is both unbiased and produces\n",
            "smaller residuals.\n"
          ]
        }
      ],
      "source": [
        "print(\n",
        "    f'Decision Tree Regressor was the model who worked better in this dataset to\\n'\n",
        "    f'predict the dependent variable so I can conclude that non linear models fit the best.\\n'\n",
        "    f'The nonlinear model provides a better fit because it is both unbiased and produces\\n'\n",
        "    f'smaller residuals.'\n",
        "    )"
      ]
    },
    {
      "cell_type": "markdown",
      "id": "25e23c2a-a0bf-4d39-bc1b-9524107f3a02",
      "metadata": {
        "tags": [],
        "id": "25e23c2a-a0bf-4d39-bc1b-9524107f3a02"
      },
      "source": [
        "## Star or no Star? Predicting players All-NBA selections"
      ]
    },
    {
      "cell_type": "markdown",
      "id": "26cd4fec-1b8b-4bfc-8024-dcdd5b8b803a",
      "metadata": {
        "id": "26cd4fec-1b8b-4bfc-8024-dcdd5b8b803a"
      },
      "source": [
        "In this section we're going to try to solve a different question:\n",
        "\n",
        "Can we train a model to predict which players are going to be selected to ALL-NBA teams at the end of the season? This is a [binary classification](https://en.wikipedia.org/wiki/Binary_classification) task, so we're training our first classifier model to solve this problem.\n",
        "\n",
        "Consider that:\n",
        "\n",
        "- Being selected as part of the [All-NBA teams](https://en.wikipedia.org/wiki/All-NBA_Team) is different than being selected for [All-Star Game](https://en.wikipedia.org/wiki/NBA_All-Star_Game). \n",
        "- You're trying to predict All-NBA selections, which takes place after the regular season but before playoffs start, so we're only going to use players and teams statistics about the regular season (you're not going to consider if the players got to the NBA finals for example). \n",
        "- All Star game takes place at the middle point of the regular season, players are selected based on partial season performance, and the general public has 50% of the votes, so it is also a more popularity-based award.\n",
        "- All-NBA teams are divided in first, second and third teams of 5 players each, divided by position: 2 front court players (guards), 2 backcourt players (forwards) and 1 center.\n",
        "- As only 15 players are selected to All-NBA teams each year (out of more than 400 qualifying players), our dataset is going to be imbalanced. You're going to have to find a good strategy to deal with this inbalance."
      ]
    },
    {
      "cell_type": "markdown",
      "id": "ef2353fa-10d7-48d1-85d7-f8743ee86698",
      "metadata": {
        "id": "ef2353fa-10d7-48d1-85d7-f8743ee86698"
      },
      "source": [
        "### Analyzing the data"
      ]
    },
    {
      "cell_type": "markdown",
      "id": "d4159ce5-fec3-48bb-93c5-058f2cbb55c5",
      "metadata": {
        "id": "d4159ce5-fec3-48bb-93c5-058f2cbb55c5"
      },
      "source": [
        "To do this task, you're going to need historical information about All-NBA selections. We'll use a dataset that contains information about players from season starting in 1990 and ending in the 2018-2019 season.\n",
        "The dataset contains statistics for all players, and a column named \"all-nba\" that is going to be our target variable, 1 means the player was selected to an All-NBA team that season.\n"
      ]
    },
    {
      "cell_type": "markdown",
      "id": "e6d64103-d6b5-4544-8ca5-81f99c937d73",
      "metadata": {
        "id": "e6d64103-d6b5-4544-8ca5-81f99c937d73"
      },
      "source": [
        "2.1. Load the dataset \"all_nba_1990_2017_dataset.csv\" from disk, look at the data inside it and print:\n",
        "- number of rows\n",
        "- number of seasons\n",
        "- number of unique players\n",
        "- number of all-nba selections vs non selected "
      ]
    },
    {
      "cell_type": "code",
      "execution_count": 32,
      "id": "bb6725f6-418d-4159-b046-3bf33a8ead0b",
      "metadata": {
        "id": "bb6725f6-418d-4159-b046-3bf33a8ead0b"
      },
      "outputs": [],
      "source": [
        "import pandas as pd\n",
        "all_nba_df = pd.read_csv(\"https://raw.githubusercontent.com/anyoneai/notebooks/main/datasets/all_nba_1990_2017_dataset.csv\", index_col=0)"
      ]
    },
    {
      "cell_type": "markdown",
      "id": "f268db59-8c9e-446b-be19-290e608169d2",
      "metadata": {
        "id": "f268db59-8c9e-446b-be19-290e608169d2"
      },
      "source": [
        "### Splitting the dataset"
      ]
    },
    {
      "cell_type": "markdown",
      "id": "6b4916b2-e8cf-4e30-a2ac-e1538c2f5cd5",
      "metadata": {
        "id": "6b4916b2-e8cf-4e30-a2ac-e1538c2f5cd5"
      },
      "source": [
        "2.2. Split the dataset in training and test sets. Make sure to keep the distribution of values in the target variable.\n",
        "\n",
        "Use columns: 'team', 'games', 'games_started', 'mp', 'fg_perc', '3p_perc',\n",
        "       '2p_perc', 'ft_perc', 'trb', 'ast', 'stl', 'blk', 'tov', 'pf', 'pts','all_nba'\n",
        "       \n",
        "    "
      ]
    },
    {
      "cell_type": "code",
      "execution_count": 33,
      "id": "25cfc4ee-98e7-4b84-98d3-80a91fb44912",
      "metadata": {
        "id": "25cfc4ee-98e7-4b84-98d3-80a91fb44912",
        "colab": {
          "base_uri": "https://localhost:8080/"
        },
        "outputId": "90bfadd5-c5d3-4c00-ab93-79e8c1831bc6"
      },
      "outputs": [
        {
          "output_type": "stream",
          "name": "stdout",
          "text": [
            "all_x_train shape = (9932, 15), all_x_test shape = (4893, 15)\n",
            "all_y_train shape = (9932,), all_y_test shape = (4893,)\n"
          ]
        }
      ],
      "source": [
        "features = ['team', 'games', 'gamesstarted', 'mp', 'fg_perc', '3p_perc', '2p_perc', 'ft_perc', 'trb', 'ast', 'stl', 'blk', 'tov', 'pf', 'pts']\n",
        "\n",
        "#split dataset 66/33 with same random state and stratify y_values\n",
        "all_x_train, all_x_test, all_y_train, all_y_test = train_test_split(all_nba_df[features],all_nba_df['all_nba'],test_size=0.33,random_state=42, stratify=all_nba_df['all_nba'])\n",
        "print(f\"all_x_train shape = {all_x_train.shape}, all_x_test shape = {all_x_test.shape}\")\n",
        "print(f\"all_y_train shape = {all_y_train.shape}, all_y_test shape = {all_y_test.shape}\")\n",
        "\n",
        "#create a copy to resolve excercise 2.10\n",
        "all_x_train2 = all_x_train.copy()\n"
      ]
    },
    {
      "cell_type": "markdown",
      "id": "7043db6e-da74-4a04-91d9-4dd0cd830f22",
      "metadata": {
        "id": "7043db6e-da74-4a04-91d9-4dd0cd830f22"
      },
      "source": [
        "### Baseline model and Evaluation Metrics"
      ]
    },
    {
      "cell_type": "markdown",
      "id": "cedaf085-2a23-41ab-a55f-474e2ae6bb9c",
      "metadata": {
        "id": "cedaf085-2a23-41ab-a55f-474e2ae6bb9c"
      },
      "source": [
        "In this oportunity we'll define our baseline model as the model we can train with the minimun amount of work on the dataset. For this you're gonna train a [LogisticRegression](https://scikit-learn.org/stable/modules/generated/sklearn.linear_model.LogisticRegression.html) with default parameters, and without doing any preprocessing to our data."
      ]
    },
    {
      "cell_type": "markdown",
      "id": "67a8999b-2dfe-466b-814c-94ecced9f8dc",
      "metadata": {
        "id": "67a8999b-2dfe-466b-814c-94ecced9f8dc"
      },
      "source": [
        "2.3. Let's start with a simple test. What accuracy would we get if we had a baseline model that always predicted 0 (player not selected to all nba)?"
      ]
    },
    {
      "cell_type": "code",
      "execution_count": 34,
      "id": "4aa3bbfb-d2ce-43bc-aea4-f6f7aab0933c",
      "metadata": {
        "id": "4aa3bbfb-d2ce-43bc-aea4-f6f7aab0933c",
        "colab": {
          "base_uri": "https://localhost:8080/"
        },
        "outputId": "2665d12e-bfcd-4d06-b394-74c69badfdb9"
      },
      "outputs": [
        {
          "output_type": "stream",
          "name": "stdout",
          "text": [
            "Baseline model prediction has an accuracy of 0.97% \n"
          ]
        }
      ],
      "source": [
        "from sklearn.metrics import accuracy_score\n",
        "from sklearn.metrics import precision_score\n",
        "from sklearn.metrics import recall_score\n",
        "from sklearn.metrics import f1_score\n",
        "\n",
        "#create a 0 array with same extension as test\n",
        "zeros = [0] * len(all_y_test.index)\n",
        "\n",
        "#calculate base accuracy rounded by 2 dec\n",
        "base_accuracy = round(accuracy_score(all_y_test,zeros),2)\n",
        "print(f\"Baseline model prediction has an accuracy of {base_accuracy}% \")"
      ]
    },
    {
      "cell_type": "markdown",
      "id": "a7f436a6-d3fe-4ead-8c09-b450d850b36f",
      "metadata": {
        "id": "a7f436a6-d3fe-4ead-8c09-b450d850b36f"
      },
      "source": [
        "2.4. What does this tells us about the data and the use of accuracy as an evaluation metric?"
      ]
    },
    {
      "cell_type": "code",
      "execution_count": 35,
      "id": "6de87d7c-4f0e-4ffc-b063-cee6eadc4e16",
      "metadata": {
        "id": "6de87d7c-4f0e-4ffc-b063-cee6eadc4e16",
        "colab": {
          "base_uri": "https://localhost:8080/"
        },
        "outputId": "31e15e2a-743b-48ca-9b6b-e2fb7485475c"
      },
      "outputs": [
        {
          "output_type": "stream",
          "name": "stdout",
          "text": [
            "I can conclude that the accuracy is not a good evaluation method because data is stratified\n"
          ]
        }
      ],
      "source": [
        "print(\"I can conclude that the accuracy is not a good evaluation method because data is stratified\")"
      ]
    },
    {
      "cell_type": "markdown",
      "id": "df1a22d1-3fd1-4e6f-9139-52a3466fb1c4",
      "metadata": {
        "id": "df1a22d1-3fd1-4e6f-9139-52a3466fb1c4"
      },
      "source": [
        "2.5. Scale all numerical features in the dataset (we will keep this scaling for future modeling, so make sure to do it in place)"
      ]
    },
    {
      "cell_type": "code",
      "execution_count": 36,
      "id": "e4d2a505-f193-4b94-89c3-56cba2c4db54",
      "metadata": {
        "id": "e4d2a505-f193-4b94-89c3-56cba2c4db54",
        "colab": {
          "base_uri": "https://localhost:8080/",
          "height": 250
        },
        "outputId": "10b029d5-2d5e-4506-dcbd-39f262be54e1"
      },
      "outputs": [
        {
          "output_type": "execute_result",
          "data": {
            "text/plain": [
              "      team     games  gamesstarted        mp   fg_perc   3p_perc   2p_perc  \\\n",
              "14985  TOT  0.940227     -0.848152  0.414644 -0.063175  0.897491  0.194455   \n",
              "2790   OKC  0.663087     -0.814339  0.112235  1.344243 -1.161320  1.079536   \n",
              "14715  CLE -0.445471     -0.408577  0.951176  0.254288 -1.161320  0.053647   \n",
              "5846   PHI  1.098592      0.470573  0.668277  0.264870  0.787980  0.184397   \n",
              "13658  PHI -1.237298     -0.881966 -1.458340 -0.846250 -0.378315 -0.730857   \n",
              "\n",
              "        ft_perc       trb       ast       stl       blk       tov        pf  \\\n",
              "14985  0.945297 -0.421506  0.611121  0.681945 -0.433488  0.922054 -0.863392   \n",
              "2790   0.291952  0.358869 -0.462461 -0.149822 -0.046433 -0.553807  1.241671   \n",
              "14715 -0.248931  1.217282  0.235368  0.266061  2.275893  0.307112  1.124723   \n",
              "5846   0.420479  1.412376  0.181688 -0.773647  1.888839  0.430100  1.007775   \n",
              "13658  0.543651 -0.811694 -0.730856 -0.981589 -0.433488 -0.676796 -1.214236   \n",
              "\n",
              "            pts  \n",
              "14985  1.576040  \n",
              "2790  -0.606791  \n",
              "14715  0.576270  \n",
              "5846   0.459630  \n",
              "13658 -0.973373  "
            ],
            "text/html": [
              "\n",
              "  <div id=\"df-50228d64-b830-4e0a-8b8b-65baab41e944\">\n",
              "    <div class=\"colab-df-container\">\n",
              "      <div>\n",
              "<style scoped>\n",
              "    .dataframe tbody tr th:only-of-type {\n",
              "        vertical-align: middle;\n",
              "    }\n",
              "\n",
              "    .dataframe tbody tr th {\n",
              "        vertical-align: top;\n",
              "    }\n",
              "\n",
              "    .dataframe thead th {\n",
              "        text-align: right;\n",
              "    }\n",
              "</style>\n",
              "<table border=\"1\" class=\"dataframe\">\n",
              "  <thead>\n",
              "    <tr style=\"text-align: right;\">\n",
              "      <th></th>\n",
              "      <th>team</th>\n",
              "      <th>games</th>\n",
              "      <th>gamesstarted</th>\n",
              "      <th>mp</th>\n",
              "      <th>fg_perc</th>\n",
              "      <th>3p_perc</th>\n",
              "      <th>2p_perc</th>\n",
              "      <th>ft_perc</th>\n",
              "      <th>trb</th>\n",
              "      <th>ast</th>\n",
              "      <th>stl</th>\n",
              "      <th>blk</th>\n",
              "      <th>tov</th>\n",
              "      <th>pf</th>\n",
              "      <th>pts</th>\n",
              "    </tr>\n",
              "  </thead>\n",
              "  <tbody>\n",
              "    <tr>\n",
              "      <th>14985</th>\n",
              "      <td>TOT</td>\n",
              "      <td>0.940227</td>\n",
              "      <td>-0.848152</td>\n",
              "      <td>0.414644</td>\n",
              "      <td>-0.063175</td>\n",
              "      <td>0.897491</td>\n",
              "      <td>0.194455</td>\n",
              "      <td>0.945297</td>\n",
              "      <td>-0.421506</td>\n",
              "      <td>0.611121</td>\n",
              "      <td>0.681945</td>\n",
              "      <td>-0.433488</td>\n",
              "      <td>0.922054</td>\n",
              "      <td>-0.863392</td>\n",
              "      <td>1.576040</td>\n",
              "    </tr>\n",
              "    <tr>\n",
              "      <th>2790</th>\n",
              "      <td>OKC</td>\n",
              "      <td>0.663087</td>\n",
              "      <td>-0.814339</td>\n",
              "      <td>0.112235</td>\n",
              "      <td>1.344243</td>\n",
              "      <td>-1.161320</td>\n",
              "      <td>1.079536</td>\n",
              "      <td>0.291952</td>\n",
              "      <td>0.358869</td>\n",
              "      <td>-0.462461</td>\n",
              "      <td>-0.149822</td>\n",
              "      <td>-0.046433</td>\n",
              "      <td>-0.553807</td>\n",
              "      <td>1.241671</td>\n",
              "      <td>-0.606791</td>\n",
              "    </tr>\n",
              "    <tr>\n",
              "      <th>14715</th>\n",
              "      <td>CLE</td>\n",
              "      <td>-0.445471</td>\n",
              "      <td>-0.408577</td>\n",
              "      <td>0.951176</td>\n",
              "      <td>0.254288</td>\n",
              "      <td>-1.161320</td>\n",
              "      <td>0.053647</td>\n",
              "      <td>-0.248931</td>\n",
              "      <td>1.217282</td>\n",
              "      <td>0.235368</td>\n",
              "      <td>0.266061</td>\n",
              "      <td>2.275893</td>\n",
              "      <td>0.307112</td>\n",
              "      <td>1.124723</td>\n",
              "      <td>0.576270</td>\n",
              "    </tr>\n",
              "    <tr>\n",
              "      <th>5846</th>\n",
              "      <td>PHI</td>\n",
              "      <td>1.098592</td>\n",
              "      <td>0.470573</td>\n",
              "      <td>0.668277</td>\n",
              "      <td>0.264870</td>\n",
              "      <td>0.787980</td>\n",
              "      <td>0.184397</td>\n",
              "      <td>0.420479</td>\n",
              "      <td>1.412376</td>\n",
              "      <td>0.181688</td>\n",
              "      <td>-0.773647</td>\n",
              "      <td>1.888839</td>\n",
              "      <td>0.430100</td>\n",
              "      <td>1.007775</td>\n",
              "      <td>0.459630</td>\n",
              "    </tr>\n",
              "    <tr>\n",
              "      <th>13658</th>\n",
              "      <td>PHI</td>\n",
              "      <td>-1.237298</td>\n",
              "      <td>-0.881966</td>\n",
              "      <td>-1.458340</td>\n",
              "      <td>-0.846250</td>\n",
              "      <td>-0.378315</td>\n",
              "      <td>-0.730857</td>\n",
              "      <td>0.543651</td>\n",
              "      <td>-0.811694</td>\n",
              "      <td>-0.730856</td>\n",
              "      <td>-0.981589</td>\n",
              "      <td>-0.433488</td>\n",
              "      <td>-0.676796</td>\n",
              "      <td>-1.214236</td>\n",
              "      <td>-0.973373</td>\n",
              "    </tr>\n",
              "  </tbody>\n",
              "</table>\n",
              "</div>\n",
              "      <button class=\"colab-df-convert\" onclick=\"convertToInteractive('df-50228d64-b830-4e0a-8b8b-65baab41e944')\"\n",
              "              title=\"Convert this dataframe to an interactive table.\"\n",
              "              style=\"display:none;\">\n",
              "        \n",
              "  <svg xmlns=\"http://www.w3.org/2000/svg\" height=\"24px\"viewBox=\"0 0 24 24\"\n",
              "       width=\"24px\">\n",
              "    <path d=\"M0 0h24v24H0V0z\" fill=\"none\"/>\n",
              "    <path d=\"M18.56 5.44l.94 2.06.94-2.06 2.06-.94-2.06-.94-.94-2.06-.94 2.06-2.06.94zm-11 1L8.5 8.5l.94-2.06 2.06-.94-2.06-.94L8.5 2.5l-.94 2.06-2.06.94zm10 10l.94 2.06.94-2.06 2.06-.94-2.06-.94-.94-2.06-.94 2.06-2.06.94z\"/><path d=\"M17.41 7.96l-1.37-1.37c-.4-.4-.92-.59-1.43-.59-.52 0-1.04.2-1.43.59L10.3 9.45l-7.72 7.72c-.78.78-.78 2.05 0 2.83L4 21.41c.39.39.9.59 1.41.59.51 0 1.02-.2 1.41-.59l7.78-7.78 2.81-2.81c.8-.78.8-2.07 0-2.86zM5.41 20L4 18.59l7.72-7.72 1.47 1.35L5.41 20z\"/>\n",
              "  </svg>\n",
              "      </button>\n",
              "      \n",
              "  <style>\n",
              "    .colab-df-container {\n",
              "      display:flex;\n",
              "      flex-wrap:wrap;\n",
              "      gap: 12px;\n",
              "    }\n",
              "\n",
              "    .colab-df-convert {\n",
              "      background-color: #E8F0FE;\n",
              "      border: none;\n",
              "      border-radius: 50%;\n",
              "      cursor: pointer;\n",
              "      display: none;\n",
              "      fill: #1967D2;\n",
              "      height: 32px;\n",
              "      padding: 0 0 0 0;\n",
              "      width: 32px;\n",
              "    }\n",
              "\n",
              "    .colab-df-convert:hover {\n",
              "      background-color: #E2EBFA;\n",
              "      box-shadow: 0px 1px 2px rgba(60, 64, 67, 0.3), 0px 1px 3px 1px rgba(60, 64, 67, 0.15);\n",
              "      fill: #174EA6;\n",
              "    }\n",
              "\n",
              "    [theme=dark] .colab-df-convert {\n",
              "      background-color: #3B4455;\n",
              "      fill: #D2E3FC;\n",
              "    }\n",
              "\n",
              "    [theme=dark] .colab-df-convert:hover {\n",
              "      background-color: #434B5C;\n",
              "      box-shadow: 0px 1px 3px 1px rgba(0, 0, 0, 0.15);\n",
              "      filter: drop-shadow(0px 1px 2px rgba(0, 0, 0, 0.3));\n",
              "      fill: #FFFFFF;\n",
              "    }\n",
              "  </style>\n",
              "\n",
              "      <script>\n",
              "        const buttonEl =\n",
              "          document.querySelector('#df-50228d64-b830-4e0a-8b8b-65baab41e944 button.colab-df-convert');\n",
              "        buttonEl.style.display =\n",
              "          google.colab.kernel.accessAllowed ? 'block' : 'none';\n",
              "\n",
              "        async function convertToInteractive(key) {\n",
              "          const element = document.querySelector('#df-50228d64-b830-4e0a-8b8b-65baab41e944');\n",
              "          const dataTable =\n",
              "            await google.colab.kernel.invokeFunction('convertToInteractive',\n",
              "                                                     [key], {});\n",
              "          if (!dataTable) return;\n",
              "\n",
              "          const docLinkHtml = 'Like what you see? Visit the ' +\n",
              "            '<a target=\"_blank\" href=https://colab.research.google.com/notebooks/data_table.ipynb>data table notebook</a>'\n",
              "            + ' to learn more about interactive tables.';\n",
              "          element.innerHTML = '';\n",
              "          dataTable['output_type'] = 'display_data';\n",
              "          await google.colab.output.renderOutput(dataTable, element);\n",
              "          const docLink = document.createElement('div');\n",
              "          docLink.innerHTML = docLinkHtml;\n",
              "          element.appendChild(docLink);\n",
              "        }\n",
              "      </script>\n",
              "    </div>\n",
              "  </div>\n",
              "  "
            ]
          },
          "metadata": {},
          "execution_count": 36
        }
      ],
      "source": [
        "#create a list of features we want to scale\n",
        "features = all_x_train.select_dtypes(include='number').columns\n",
        "#declare scaler\n",
        "scaler = StandardScaler()\n",
        "\n",
        "#scale column by column with each corresponding fit between train and test\n",
        "for feature in features:\n",
        "    all_x_train[feature] = scaler.fit_transform(all_x_train[[feature]])\n",
        "    all_x_test[feature] = scaler.transform(all_x_test[[feature]])\n",
        "\n",
        "all_x_train.head()"
      ]
    },
    {
      "cell_type": "markdown",
      "id": "0ccfd642-fd2a-4ce6-af92-901156e2a009",
      "metadata": {
        "id": "0ccfd642-fd2a-4ce6-af92-901156e2a009"
      },
      "source": [
        "2.6. Train a LogisticRegression with default parameters, use only the numerical features (omit the team information for now). This will be our baseline model. "
      ]
    },
    {
      "cell_type": "code",
      "execution_count": 37,
      "id": "6f9ffef5-6333-481e-816f-9125c95fe117",
      "metadata": {
        "id": "6f9ffef5-6333-481e-816f-9125c95fe117"
      },
      "outputs": [],
      "source": [
        "from sklearn.linear_model import LogisticRegression\n",
        "#declare logistic regressor\n",
        "logreg = LogisticRegression()\n",
        "\n",
        "#train and predict \n",
        "logreg.fit(all_x_train[features], all_y_train)\n",
        "all_y_pred = logreg.predict(all_x_test[features])\n",
        "\n",
        "#calculate mae\n",
        "mae_logreg = mean_absolute_error(all_y_test, all_y_pred)"
      ]
    },
    {
      "cell_type": "markdown",
      "id": "0f06758a-f2dd-4339-b170-275b428fdb4e",
      "metadata": {
        "id": "0f06758a-f2dd-4339-b170-275b428fdb4e"
      },
      "source": [
        "2.7. Evaluate our baseline model using this metrics: \n",
        "\n",
        "    - accuracy\n",
        "    - precision\n",
        "    - recall\n",
        "    - f1"
      ]
    },
    {
      "cell_type": "code",
      "execution_count": 38,
      "id": "b953324f-f7ae-4823-a801-f06d27d6eb43",
      "metadata": {
        "id": "b953324f-f7ae-4823-a801-f06d27d6eb43",
        "colab": {
          "base_uri": "https://localhost:8080/"
        },
        "outputId": "39d98164-95c9-423e-9eb7-43ae357ee3a9"
      },
      "outputs": [
        {
          "output_type": "stream",
          "name": "stdout",
          "text": [
            "Baseline model Accuracy: 0.98%\n",
            "Baseline model Precision: 0.78%\n",
            "Baseline model Recall Score: 0.59%\n",
            "Baseline model F1 Score: 0.67%\n"
          ]
        }
      ],
      "source": [
        "print(\n",
        "      f\"Baseline model Accuracy: {round(accuracy_score(all_y_test,all_y_pred),2)}%\\n\"\n",
        "      f\"Baseline model Precision: {round(precision_score(all_y_test,all_y_pred),2)}%\\n\"\n",
        "      f\"Baseline model Recall Score: {round(recall_score(all_y_test,all_y_pred),2)}%\\n\"\n",
        "      f\"Baseline model F1 Score: {round(f1_score(all_y_test,all_y_pred),2)}%\"\n",
        ")"
      ]
    },
    {
      "cell_type": "markdown",
      "id": "7a540e7b-387d-4e2b-a441-d0c5173bdbf7",
      "metadata": {
        "id": "7a540e7b-387d-4e2b-a441-d0c5173bdbf7"
      },
      "source": [
        "From now on, you'll be evaluating you model primarily using the F1 Score metric, but we also want to avoid models that have very low recall. "
      ]
    },
    {
      "cell_type": "markdown",
      "id": "2054a43f-55ec-45fc-9ead-a7699d8aa2b0",
      "metadata": {
        "id": "2054a43f-55ec-45fc-9ead-a7699d8aa2b0"
      },
      "source": [
        "### Classification"
      ]
    },
    {
      "cell_type": "markdown",
      "id": "1e2847f3-f02c-4308-8a0c-41ba79af0781",
      "metadata": {
        "id": "1e2847f3-f02c-4308-8a0c-41ba79af0781"
      },
      "source": [
        "#### Feature engineering"
      ]
    },
    {
      "cell_type": "markdown",
      "id": "27b6ddb3-576c-4238-9ec3-534aafee764b",
      "metadata": {
        "id": "27b6ddb3-576c-4238-9ec3-534aafee764b"
      },
      "source": [
        "2.8. One hot encode the Team feature. Make sure to drop the original column."
      ]
    },
    {
      "cell_type": "code",
      "execution_count": 39,
      "id": "f4ca83ec-7aab-4cff-8ac7-1b224ff54dde",
      "metadata": {
        "id": "f4ca83ec-7aab-4cff-8ac7-1b224ff54dde"
      },
      "outputs": [],
      "source": [
        "from sklearn.preprocessing import OneHotEncoder\n",
        "\n",
        "#declare encoder\n",
        "ohe = OneHotEncoder(dtype=int,drop='first', sparse = False, handle_unknown='ignore')\n",
        "\n",
        "#encoding team column data in train\n",
        "team_ohe_train = ohe.fit_transform(all_x_train[['team']])\n",
        "#create columns with categories minus first\n",
        "all_x_train[ohe.categories_[0][1:]] = team_ohe_train\n",
        "#drop original column\n",
        "all_x_train.drop(columns= 'team',inplace= True)\n",
        "\n",
        "#encoding team column data in test\n",
        "team_ohe_test = ohe.transform(all_x_test[['team']])\n",
        "#create columns with categories minus first\n",
        "all_x_test[ohe.categories_[0][1:]] = team_ohe_test \n",
        "#drop original column\n",
        "all_x_test.drop(columns= 'team', inplace= True)"
      ]
    },
    {
      "cell_type": "markdown",
      "id": "6592c6c0-7ec8-49ac-936c-2d0fb84ccfef",
      "metadata": {
        "tags": [],
        "id": "6592c6c0-7ec8-49ac-936c-2d0fb84ccfef"
      },
      "source": [
        "#### Modeling"
      ]
    },
    {
      "cell_type": "markdown",
      "id": "06240cb2-de21-4d4e-ae0e-0f90c3c0453a",
      "metadata": {
        "id": "06240cb2-de21-4d4e-ae0e-0f90c3c0453a"
      },
      "source": [
        "2.9. Train a logistic regresion model, find the best hyperparameters for: tols, C and max_iter. Try at least 4 values of each parameter. Remember to select based on f1 score, but report also precision and recall. Save the best performing model to use in the next steps."
      ]
    },
    {
      "cell_type": "code",
      "execution_count": 40,
      "id": "4bdc4abf-ded3-4d8b-9170-c1d5b4951ba7",
      "metadata": {
        "id": "4bdc4abf-ded3-4d8b-9170-c1d5b4951ba7"
      },
      "outputs": [],
      "source": [
        "def search_best_hyperparameters_logreg(tol,c,max_iter):\n",
        "    result = {\n",
        "        \"hyperparameters\": {\"tol\": None, \n",
        "                            \"c_hyp\": None , \n",
        "                            \"max_iter\": None}, \n",
        "        \"f1\": None\n",
        "    }\n",
        "    for to in tol: \n",
        "      for c_hyp in c:\n",
        "        for mi in max_iter:\n",
        "          #define the regressor model by using the SGDRegressor class (SGD) \n",
        "          logreg = LogisticRegression(tol=to,C=c_hyp,max_iter=mi,random_state=42)\n",
        "          #fit the model on train data and check the model accuracy score\n",
        "          logreg.fit(all_x_train, all_y_train)\n",
        "          #predicting and accuracy check\n",
        "          all_y_pred = logreg.predict(all_x_test)\n",
        "          f1_best = f1_score(all_y_test,all_y_pred)\n",
        "          if result['f1'] == None:\n",
        "            result['hyperparameters']['tol']=to\n",
        "            result['hyperparameters']['c_hyp']=c_hyp\n",
        "            result['hyperparameters']['max_iter']=mi\n",
        "            result['f1']= f1_best\n",
        "          elif result['f1'] < f1_best:\n",
        "            result['hyperparameters']['tol']=to\n",
        "            result['hyperparameters']['c_hyp']=c_hyp\n",
        "            result['hyperparameters']['max_iter']=mi\n",
        "            result['f1']= f1_best\n",
        "    return result"
      ]
    },
    {
      "cell_type": "code",
      "source": [
        "tol = [0.0001, 0.0005,0.001,0.01,0.1,0.00005]\n",
        "c = [0.5,1,1.5,2,5]\n",
        "max_iter = [1000,2000,800,1500]\n",
        "\n",
        "f1_best_logreg = search_best_hyperparameters_logreg(tol,c,max_iter)\n",
        "print(f1_best_logreg)"
      ],
      "metadata": {
        "id": "S5wd6XRlbtEO",
        "colab": {
          "base_uri": "https://localhost:8080/"
        },
        "outputId": "894dd92d-2939-4025-c838-ecc4a522577c"
      },
      "id": "S5wd6XRlbtEO",
      "execution_count": 41,
      "outputs": [
        {
          "output_type": "stream",
          "name": "stdout",
          "text": [
            "{'hyperparameters': {'tol': 0.0001, 'c_hyp': 1, 'max_iter': 1000}, 'f1': 0.7112676056338028}\n"
          ]
        }
      ]
    },
    {
      "cell_type": "code",
      "source": [
        "print(\n",
        "    f'Baseline model:\\n'\n",
        "    f\"Baseline model Accuracy: {round(accuracy_score(all_y_test,all_y_pred),2)}%\\n\"\n",
        "    f\"Baseline model Precision: {round(precision_score(all_y_test,all_y_pred),2)}%\\n\"\n",
        "    f\"Baseline model Recall Score: {round(recall_score(all_y_test,all_y_pred),2)}%\\n\"\n",
        "    f\"Baseline model F1 Score: {round(f1_score(all_y_test,all_y_pred),2)}%\\n\\n\"\n",
        "    \"LogRegressor model:\\n\"\n",
        "    f\"F1 Score:{round(f1_best_logreg['f1'],2)}% ---- Hyper: 'tol': {f1_best_logreg['hyperparameters']['tol']}, 'C': {f1_best_logreg['hyperparameters']['c_hyp']},'max_iter:'{f1_best_logreg['hyperparameters']['max_iter']}\"\n",
        "      )"
      ],
      "metadata": {
        "id": "T39Bhzhkbxsv",
        "colab": {
          "base_uri": "https://localhost:8080/"
        },
        "outputId": "af01950f-7674-4e02-8848-e552a1077558"
      },
      "id": "T39Bhzhkbxsv",
      "execution_count": 42,
      "outputs": [
        {
          "output_type": "stream",
          "name": "stdout",
          "text": [
            "Baseline model:\n",
            "Baseline model Accuracy: 0.98%\n",
            "Baseline model Precision: 0.78%\n",
            "Baseline model Recall Score: 0.59%\n",
            "Baseline model F1 Score: 0.67%\n",
            "\n",
            "LogRegressor model:\n",
            "F1 Score:0.71% ---- Hyper: 'tol': 0.0001, 'C': 1,'max_iter:'1000\n"
          ]
        }
      ]
    },
    {
      "cell_type": "markdown",
      "id": "45c0c3bd-b431-40f1-abbb-4e90b7479411",
      "metadata": {
        "id": "45c0c3bd-b431-40f1-abbb-4e90b7479411"
      },
      "source": [
        "#### Evaluating on New Data"
      ]
    },
    {
      "cell_type": "markdown",
      "id": "3a5352ce-df8a-4c9d-b583-65255774f9d9",
      "metadata": {
        "id": "3a5352ce-df8a-4c9d-b583-65255774f9d9"
      },
      "source": [
        "You're now going to evaluate the results on a test dataset that has not being used to train or do hyperparameter tuning, this is sometimes known as a Test set (in this cases the test set used for training is known as validation set, yeah, it's confusing, but you can read about it [here](https://machinelearningmastery.com/difference-test-validation-datasets/))"
      ]
    },
    {
      "cell_type": "markdown",
      "id": "9da9e93b-6265-44e4-89be-75e7178800e2",
      "metadata": {
        "id": "9da9e93b-6265-44e4-89be-75e7178800e2"
      },
      "source": [
        "2.10. Load the dataset [all_nba_2018_dataset.csv](https://raw.githubusercontent.com/anyoneai/notebooks/main/datasets/all_nba_2018_dataset.csv) in one dataframe and [all_nba_2018_selections.csv](https://raw.githubusercontent.com/anyoneai/notebooks/main/datasets/all_nba_2018_selections.csv)) in another, then:\n",
        "\n",
        "    - Scale the numerical features. Columns season_id, player_id, player_season, player, season and season_start will not be used for prediction, you can keep them but remember not to pass them to the classifier.\n",
        "    \n",
        "    - Create the one hot encoded features for team. This step will be complex, as you will have to consider that in the 2018 season there are 30 teams, but the previous dataset contains 40 teams, that is because a lot of teams changed names or cities over the years. You need to add those 10 different team names in this dataset (with all values in 0) to make the classifier work."
      ]
    },
    {
      "cell_type": "code",
      "execution_count": 43,
      "id": "79ea153a-b061-4df9-9c3d-1aaa0526c700",
      "metadata": {
        "id": "79ea153a-b061-4df9-9c3d-1aaa0526c700"
      },
      "outputs": [],
      "source": [
        "all_nba_2018_df = pd.read_csv(\"https://raw.githubusercontent.com/anyoneai/notebooks/main/datasets/all_nba_2018_dataset.csv\", index_col=0)\n",
        "all_nba_2018_selections = pd.read_csv(\"https://raw.githubusercontent.com/anyoneai/notebooks/main/datasets/all_nba_2018_selections.csv\", index_col=0)\n",
        "\n",
        "#create a copy to work in 2.15 \n",
        "all_nba_2018_df_players = all_nba_2018_df.copy() \n",
        "all_nba_2018_selections2 = all_nba_2018_selections.copy() "
      ]
    },
    {
      "cell_type": "markdown",
      "id": "8b0bb296-b1b3-4ae4-b199-b11224c78a82",
      "metadata": {
        "id": "8b0bb296-b1b3-4ae4-b199-b11224c78a82"
      },
      "source": [
        "2.11. Predict and evaluate the model using precision, recall and f1 score. "
      ]
    },
    {
      "cell_type": "code",
      "execution_count": 44,
      "id": "b00ddffa-3f09-4294-beb5-098c2d698af0",
      "metadata": {
        "id": "b00ddffa-3f09-4294-beb5-098c2d698af0",
        "colab": {
          "base_uri": "https://localhost:8080/"
        },
        "outputId": "90f91616-cd67-4775-daf3-fd945f3ecb34"
      },
      "outputs": [
        {
          "output_type": "stream",
          "name": "stdout",
          "text": [
            "Baseline model:\n",
            "Baseline model Accuracy: 0.98%\n",
            "Baseline model Precision: 0.78%\n",
            "Baseline model Recall Score: 0.59%\n",
            "Baseline model F1 Score: 0.67%\n",
            "\n",
            "LogRegressor model:\n",
            "F1 Score:0.71% ---- Hyper: 'tol': 0.0001, 'C': 1,'max_iter:'1000\n",
            "\n",
            "LogRegressor model validation:\n",
            "Baseline model Accuracy: 0.98%\n",
            "Baseline model Precision: 0.62%\n",
            "Baseline model Recall Score: 1.0%\n",
            "Baseline model F1 Score: 0.77%\n"
          ]
        }
      ],
      "source": [
        "#select the columns we need to train the model\n",
        "all_nba_2018_df = all_nba_2018_df.drop(columns= ['season_id','player_id','player_season','player','season','season_start']) \n",
        "\n",
        "#scaling numerical data in validation dataset\n",
        "scaler = StandardScaler()\n",
        "\n",
        "features = all_x_train2.select_dtypes(include='number').columns\n",
        "\n",
        "for feature in features:\n",
        "    scaler.fit(all_x_train2[[feature]])\n",
        "    all_nba_2018_df[feature] = scaler.transform(all_nba_2018_df[[feature]]) \n",
        "\n",
        "#enconding team column validation dataset\n",
        "ohe = OneHotEncoder(dtype=int,drop='first', sparse = False, handle_unknown='ignore')\n",
        "\n",
        "team_ohe_val = ohe.fit_transform(all_nba_2018_df[['team']])\n",
        "all_nba_2018_df[ohe.categories_[0][1:]] = team_ohe_val\n",
        "all_nba_2018_df = all_nba_2018_df.drop(columns= 'team')\n",
        "\n",
        "#select teams columns\n",
        "new_teams = all_x_train.iloc[:,14:].columns\n",
        "old_teams= all_nba_2018_df.iloc[:,14:].columns\n",
        "\n",
        "#difference between two dataset teams columns\n",
        "teams_diff = set(new_teams) - set(old_teams)\n",
        "teams_add = list(teams_diff)\n",
        "\n",
        "#adding difference to validation dataset with 0 value\n",
        "all_nba_2018_df[teams_add]= 0\n",
        "\n",
        "#create a copy to work in 2.16\n",
        "all_nba_2018_df2 = all_nba_2018_df.copy() \n",
        "\n",
        "#define the regressor model with besthyperparamters \n",
        "logreg = LogisticRegression(tol=0.0001,C=1,max_iter=1000,random_state=42)\n",
        "\n",
        "#fit the model on train data and check the model accuracy score\n",
        "logreg.fit(all_x_train, all_y_train)\n",
        "\n",
        "#predicting and accuracy check\n",
        "all_y_pred_val = logreg.predict(all_nba_2018_df)\n",
        "\n",
        "#drop player_id\n",
        "all_nba_2018_selections = all_nba_2018_selections.drop(columns=['player_id','player'])\n",
        "\n",
        "print(\n",
        "      f\"Baseline model:\\n\"\n",
        "      f\"Baseline model Accuracy: {round(accuracy_score(all_y_test,all_y_pred),2)}%\\n\"\n",
        "      f\"Baseline model Precision: {round(precision_score(all_y_test,all_y_pred),2)}%\\n\"\n",
        "      f\"Baseline model Recall Score: {round(recall_score(all_y_test,all_y_pred),2)}%\\n\"\n",
        "      f\"Baseline model F1 Score: {round(f1_score(all_y_test,all_y_pred),2)}%\\n\\n\"\n",
        "      \"LogRegressor model:\\n\"\n",
        "      f\"F1 Score:{round(f1_best_logreg['f1'],2)}% ---- Hyper: 'tol': {f1_best_logreg['hyperparameters']['tol']}, 'C': {f1_best_logreg['hyperparameters']['c_hyp']},'max_iter:'{f1_best_logreg['hyperparameters']['max_iter']}\\n\"\n",
        "      f\"\\nLogRegressor model validation:\\n\"\n",
        "      f\"Baseline model Accuracy: {round(accuracy_score(all_nba_2018_selections,all_y_pred_val),2)}%\\n\"\n",
        "      f\"Baseline model Precision: {round(precision_score(all_nba_2018_selections,all_y_pred_val),2)}%\\n\"\n",
        "      f\"Baseline model Recall Score: {round(recall_score(all_nba_2018_selections,all_y_pred_val),2)}%\\n\"\n",
        "      f\"Baseline model F1 Score: {round(f1_score(all_nba_2018_selections,all_y_pred_val),2)}%\"\n",
        ")\n"
      ]
    },
    {
      "cell_type": "markdown",
      "id": "be98174e-4d1b-407d-8ecc-dd568f6e5368",
      "metadata": {
        "id": "be98174e-4d1b-407d-8ecc-dd568f6e5368"
      },
      "source": [
        "2.12. Analyze the results, what do you think it is happening?"
      ]
    },
    {
      "cell_type": "code",
      "execution_count": 45,
      "id": "17f87aa8-dd84-462a-b26b-80400e4a87e3",
      "metadata": {
        "id": "17f87aa8-dd84-462a-b26b-80400e4a87e3",
        "colab": {
          "base_uri": "https://localhost:8080/"
        },
        "outputId": "977849b8-46b0-4f0b-c3ea-8c8f9e629bc4"
      },
      "outputs": [
        {
          "output_type": "stream",
          "name": "stdout",
          "text": [
            "The precision is lower than the baseline,it means that we have less True\n",
            "and False positives values so, our total predicted positive are less.\n",
            "The recall is better than the baseline so we make sure that we predict\n",
            "actual positives(True positives and false negatives.\n",
            "So if we have those two measures better than the baseline model, we are getting a better F1 Score.\n"
          ]
        }
      ],
      "source": [
        "print(\n",
        "    f'The precision is lower than the baseline,it means that we have less True\\n' \n",
        "    f'and False positives values so, our total predicted positive are less.\\n'\n",
        "    f'The recall is better than the baseline so we make sure that we predict\\n' \n",
        "    f'actual positives(True positives and false negatives.\\n'\n",
        "    f'So if we have those two measures better than the baseline model, we are getting a better F1 Score.'\n",
        ")"
      ]
    },
    {
      "cell_type": "markdown",
      "id": "77a8c607-5df7-43d2-8365-cbbb6f2b93e1",
      "metadata": {
        "id": "77a8c607-5df7-43d2-8365-cbbb6f2b93e1"
      },
      "source": [
        "#### Creating our custom Classifier"
      ]
    },
    {
      "cell_type": "markdown",
      "id": "21dc0d0a-1d15-4f9e-b3ed-f83df1f51ce0",
      "metadata": {
        "id": "21dc0d0a-1d15-4f9e-b3ed-f83df1f51ce0"
      },
      "source": [
        "One thing to consider in this problem, is that the number of ALl NBA selections is fixed each year, a total of 15 players are always selected. But our current model does not limit the number of positive classified players. So, we will have to wrap our model in a custom classifier that only returns as positive the 15 players with the higher probabilities. \n",
        "Fortunately, our chosen model provides access to the underlying probabilities."
      ]
    },
    {
      "cell_type": "markdown",
      "id": "e22326d3-c1ae-475b-9b31-7b02876f8bbc",
      "metadata": {
        "id": "e22326d3-c1ae-475b-9b31-7b02876f8bbc"
      },
      "source": [
        "2.13. Using the trained model, predict probabilities for all rows in the dataset, and create a new column that has the probability that the player was selected as all nba. Round the probability to 3 decimals."
      ]
    },
    {
      "cell_type": "code",
      "execution_count": 46,
      "id": "fddf0631-d676-485d-9748-a688e854c9f2",
      "metadata": {
        "id": "fddf0631-d676-485d-9748-a688e854c9f2"
      },
      "outputs": [],
      "source": [
        "probabilities = logreg.predict_proba(all_nba_2018_df)\n",
        "all_nba_2018_df['prob_allnba'] = probabilities[:,1].round(3)"
      ]
    },
    {
      "cell_type": "markdown",
      "id": "c1e5edbf-faee-4773-a114-eed5eab89242",
      "metadata": {
        "id": "c1e5edbf-faee-4773-a114-eed5eab89242"
      },
      "source": [
        "2.14. Sort the dataset by probabilities and show the 15 players with higher probability to have been selected"
      ]
    },
    {
      "cell_type": "code",
      "execution_count": 47,
      "id": "42562785-2d0d-4e11-a31f-3eca3f78c818",
      "metadata": {
        "id": "42562785-2d0d-4e11-a31f-3eca3f78c818",
        "colab": {
          "base_uri": "https://localhost:8080/",
          "height": 300
        },
        "outputId": "5ca7f678-f0bd-408e-b4fe-89656ef78a4b"
      },
      "outputs": [
        {
          "output_type": "execute_result",
          "data": {
            "text/plain": [
              "         games  gamesstarted        mp   fg_perc   3p_perc   2p_perc  \\\n",
              "5604  0.940227      1.755485  1.604769  0.032064  0.853687  0.697342   \n",
              "453   0.702679      1.552604  1.214564  1.471228  0.240424  1.833866   \n",
              "6857  0.029626      0.977775  1.448687  0.751646  0.694895  1.240460   \n",
              "3401  0.069217      1.011589  1.234074  0.825720  0.651091  0.888439   \n",
              "4145  0.385948      1.282097  1.302360  0.476511  0.481348  0.767746   \n",
              "\n",
              "       ft_perc       trb       ast       stl  ...  CHH  NOK  SDC  CHA  SEA  \\\n",
              "5604  0.966718  1.178263  3.026680  2.761362  ...    0    0    0    0    0   \n",
              "453   0.163426  3.480370  2.167815  1.305770  ...    0    0    0    0    0   \n",
              "6857 -0.179312  1.919620  3.456112  1.305770  ...    0    0    0    0    0   \n",
              "3401  0.511519  3.285276  1.094233  1.929595  ...    0    0    0    0    0   \n",
              "4145  0.565072  3.909577  0.986875  0.058120  ...    0    0    0    0    0   \n",
              "\n",
              "      KCK  NOH  WSB  NJN  prob_allnba  \n",
              "5604    0    0    0    0        1.000  \n",
              "453     0    0    0    0        0.999  \n",
              "6857    0    0    0    0        0.998  \n",
              "3401    0    0    0    0        0.998  \n",
              "4145    0    0    0    0        0.984  \n",
              "\n",
              "[5 rows x 55 columns]"
            ],
            "text/html": [
              "\n",
              "  <div id=\"df-f3c9ee26-2fc6-41b5-b5ef-d6b60d4fa5ca\">\n",
              "    <div class=\"colab-df-container\">\n",
              "      <div>\n",
              "<style scoped>\n",
              "    .dataframe tbody tr th:only-of-type {\n",
              "        vertical-align: middle;\n",
              "    }\n",
              "\n",
              "    .dataframe tbody tr th {\n",
              "        vertical-align: top;\n",
              "    }\n",
              "\n",
              "    .dataframe thead th {\n",
              "        text-align: right;\n",
              "    }\n",
              "</style>\n",
              "<table border=\"1\" class=\"dataframe\">\n",
              "  <thead>\n",
              "    <tr style=\"text-align: right;\">\n",
              "      <th></th>\n",
              "      <th>games</th>\n",
              "      <th>gamesstarted</th>\n",
              "      <th>mp</th>\n",
              "      <th>fg_perc</th>\n",
              "      <th>3p_perc</th>\n",
              "      <th>2p_perc</th>\n",
              "      <th>ft_perc</th>\n",
              "      <th>trb</th>\n",
              "      <th>ast</th>\n",
              "      <th>stl</th>\n",
              "      <th>...</th>\n",
              "      <th>CHH</th>\n",
              "      <th>NOK</th>\n",
              "      <th>SDC</th>\n",
              "      <th>CHA</th>\n",
              "      <th>SEA</th>\n",
              "      <th>KCK</th>\n",
              "      <th>NOH</th>\n",
              "      <th>WSB</th>\n",
              "      <th>NJN</th>\n",
              "      <th>prob_allnba</th>\n",
              "    </tr>\n",
              "  </thead>\n",
              "  <tbody>\n",
              "    <tr>\n",
              "      <th>5604</th>\n",
              "      <td>0.940227</td>\n",
              "      <td>1.755485</td>\n",
              "      <td>1.604769</td>\n",
              "      <td>0.032064</td>\n",
              "      <td>0.853687</td>\n",
              "      <td>0.697342</td>\n",
              "      <td>0.966718</td>\n",
              "      <td>1.178263</td>\n",
              "      <td>3.026680</td>\n",
              "      <td>2.761362</td>\n",
              "      <td>...</td>\n",
              "      <td>0</td>\n",
              "      <td>0</td>\n",
              "      <td>0</td>\n",
              "      <td>0</td>\n",
              "      <td>0</td>\n",
              "      <td>0</td>\n",
              "      <td>0</td>\n",
              "      <td>0</td>\n",
              "      <td>0</td>\n",
              "      <td>1.000</td>\n",
              "    </tr>\n",
              "    <tr>\n",
              "      <th>453</th>\n",
              "      <td>0.702679</td>\n",
              "      <td>1.552604</td>\n",
              "      <td>1.214564</td>\n",
              "      <td>1.471228</td>\n",
              "      <td>0.240424</td>\n",
              "      <td>1.833866</td>\n",
              "      <td>0.163426</td>\n",
              "      <td>3.480370</td>\n",
              "      <td>2.167815</td>\n",
              "      <td>1.305770</td>\n",
              "      <td>...</td>\n",
              "      <td>0</td>\n",
              "      <td>0</td>\n",
              "      <td>0</td>\n",
              "      <td>0</td>\n",
              "      <td>0</td>\n",
              "      <td>0</td>\n",
              "      <td>0</td>\n",
              "      <td>0</td>\n",
              "      <td>0</td>\n",
              "      <td>0.999</td>\n",
              "    </tr>\n",
              "    <tr>\n",
              "      <th>6857</th>\n",
              "      <td>0.029626</td>\n",
              "      <td>0.977775</td>\n",
              "      <td>1.448687</td>\n",
              "      <td>0.751646</td>\n",
              "      <td>0.694895</td>\n",
              "      <td>1.240460</td>\n",
              "      <td>-0.179312</td>\n",
              "      <td>1.919620</td>\n",
              "      <td>3.456112</td>\n",
              "      <td>1.305770</td>\n",
              "      <td>...</td>\n",
              "      <td>0</td>\n",
              "      <td>0</td>\n",
              "      <td>0</td>\n",
              "      <td>0</td>\n",
              "      <td>0</td>\n",
              "      <td>0</td>\n",
              "      <td>0</td>\n",
              "      <td>0</td>\n",
              "      <td>0</td>\n",
              "      <td>0.998</td>\n",
              "    </tr>\n",
              "    <tr>\n",
              "      <th>3401</th>\n",
              "      <td>0.069217</td>\n",
              "      <td>1.011589</td>\n",
              "      <td>1.234074</td>\n",
              "      <td>0.825720</td>\n",
              "      <td>0.651091</td>\n",
              "      <td>0.888439</td>\n",
              "      <td>0.511519</td>\n",
              "      <td>3.285276</td>\n",
              "      <td>1.094233</td>\n",
              "      <td>1.929595</td>\n",
              "      <td>...</td>\n",
              "      <td>0</td>\n",
              "      <td>0</td>\n",
              "      <td>0</td>\n",
              "      <td>0</td>\n",
              "      <td>0</td>\n",
              "      <td>0</td>\n",
              "      <td>0</td>\n",
              "      <td>0</td>\n",
              "      <td>0</td>\n",
              "      <td>0.998</td>\n",
              "    </tr>\n",
              "    <tr>\n",
              "      <th>4145</th>\n",
              "      <td>0.385948</td>\n",
              "      <td>1.282097</td>\n",
              "      <td>1.302360</td>\n",
              "      <td>0.476511</td>\n",
              "      <td>0.481348</td>\n",
              "      <td>0.767746</td>\n",
              "      <td>0.565072</td>\n",
              "      <td>3.909577</td>\n",
              "      <td>0.986875</td>\n",
              "      <td>0.058120</td>\n",
              "      <td>...</td>\n",
              "      <td>0</td>\n",
              "      <td>0</td>\n",
              "      <td>0</td>\n",
              "      <td>0</td>\n",
              "      <td>0</td>\n",
              "      <td>0</td>\n",
              "      <td>0</td>\n",
              "      <td>0</td>\n",
              "      <td>0</td>\n",
              "      <td>0.984</td>\n",
              "    </tr>\n",
              "  </tbody>\n",
              "</table>\n",
              "<p>5 rows × 55 columns</p>\n",
              "</div>\n",
              "      <button class=\"colab-df-convert\" onclick=\"convertToInteractive('df-f3c9ee26-2fc6-41b5-b5ef-d6b60d4fa5ca')\"\n",
              "              title=\"Convert this dataframe to an interactive table.\"\n",
              "              style=\"display:none;\">\n",
              "        \n",
              "  <svg xmlns=\"http://www.w3.org/2000/svg\" height=\"24px\"viewBox=\"0 0 24 24\"\n",
              "       width=\"24px\">\n",
              "    <path d=\"M0 0h24v24H0V0z\" fill=\"none\"/>\n",
              "    <path d=\"M18.56 5.44l.94 2.06.94-2.06 2.06-.94-2.06-.94-.94-2.06-.94 2.06-2.06.94zm-11 1L8.5 8.5l.94-2.06 2.06-.94-2.06-.94L8.5 2.5l-.94 2.06-2.06.94zm10 10l.94 2.06.94-2.06 2.06-.94-2.06-.94-.94-2.06-.94 2.06-2.06.94z\"/><path d=\"M17.41 7.96l-1.37-1.37c-.4-.4-.92-.59-1.43-.59-.52 0-1.04.2-1.43.59L10.3 9.45l-7.72 7.72c-.78.78-.78 2.05 0 2.83L4 21.41c.39.39.9.59 1.41.59.51 0 1.02-.2 1.41-.59l7.78-7.78 2.81-2.81c.8-.78.8-2.07 0-2.86zM5.41 20L4 18.59l7.72-7.72 1.47 1.35L5.41 20z\"/>\n",
              "  </svg>\n",
              "      </button>\n",
              "      \n",
              "  <style>\n",
              "    .colab-df-container {\n",
              "      display:flex;\n",
              "      flex-wrap:wrap;\n",
              "      gap: 12px;\n",
              "    }\n",
              "\n",
              "    .colab-df-convert {\n",
              "      background-color: #E8F0FE;\n",
              "      border: none;\n",
              "      border-radius: 50%;\n",
              "      cursor: pointer;\n",
              "      display: none;\n",
              "      fill: #1967D2;\n",
              "      height: 32px;\n",
              "      padding: 0 0 0 0;\n",
              "      width: 32px;\n",
              "    }\n",
              "\n",
              "    .colab-df-convert:hover {\n",
              "      background-color: #E2EBFA;\n",
              "      box-shadow: 0px 1px 2px rgba(60, 64, 67, 0.3), 0px 1px 3px 1px rgba(60, 64, 67, 0.15);\n",
              "      fill: #174EA6;\n",
              "    }\n",
              "\n",
              "    [theme=dark] .colab-df-convert {\n",
              "      background-color: #3B4455;\n",
              "      fill: #D2E3FC;\n",
              "    }\n",
              "\n",
              "    [theme=dark] .colab-df-convert:hover {\n",
              "      background-color: #434B5C;\n",
              "      box-shadow: 0px 1px 3px 1px rgba(0, 0, 0, 0.15);\n",
              "      filter: drop-shadow(0px 1px 2px rgba(0, 0, 0, 0.3));\n",
              "      fill: #FFFFFF;\n",
              "    }\n",
              "  </style>\n",
              "\n",
              "      <script>\n",
              "        const buttonEl =\n",
              "          document.querySelector('#df-f3c9ee26-2fc6-41b5-b5ef-d6b60d4fa5ca button.colab-df-convert');\n",
              "        buttonEl.style.display =\n",
              "          google.colab.kernel.accessAllowed ? 'block' : 'none';\n",
              "\n",
              "        async function convertToInteractive(key) {\n",
              "          const element = document.querySelector('#df-f3c9ee26-2fc6-41b5-b5ef-d6b60d4fa5ca');\n",
              "          const dataTable =\n",
              "            await google.colab.kernel.invokeFunction('convertToInteractive',\n",
              "                                                     [key], {});\n",
              "          if (!dataTable) return;\n",
              "\n",
              "          const docLinkHtml = 'Like what you see? Visit the ' +\n",
              "            '<a target=\"_blank\" href=https://colab.research.google.com/notebooks/data_table.ipynb>data table notebook</a>'\n",
              "            + ' to learn more about interactive tables.';\n",
              "          element.innerHTML = '';\n",
              "          dataTable['output_type'] = 'display_data';\n",
              "          await google.colab.output.renderOutput(dataTable, element);\n",
              "          const docLink = document.createElement('div');\n",
              "          docLink.innerHTML = docLinkHtml;\n",
              "          element.appendChild(docLink);\n",
              "        }\n",
              "      </script>\n",
              "    </div>\n",
              "  </div>\n",
              "  "
            ]
          },
          "metadata": {},
          "execution_count": 47
        }
      ],
      "source": [
        "all_nba_2018_df = all_nba_2018_df.sort_values(by='prob_allnba', ascending=False)\n",
        "all_nba_2018_df.head()"
      ]
    },
    {
      "cell_type": "markdown",
      "id": "1c27683b-0256-40c5-929c-d5ed6cdf6d1f",
      "metadata": {
        "id": "1c27683b-0256-40c5-929c-d5ed6cdf6d1f"
      },
      "source": [
        "2.15. Print:\n",
        "\n",
        "    - Players actually selected from the all_nba_2018_selections dataset,\n",
        "    - Players actually selected missing from OUR predictions+\n",
        "    - Players in our predictions not selected "
      ]
    },
    {
      "cell_type": "code",
      "execution_count": 48,
      "id": "fdbcdcac-43bd-4936-8312-456b3b0bd842",
      "metadata": {
        "id": "fdbcdcac-43bd-4936-8312-456b3b0bd842",
        "colab": {
          "base_uri": "https://localhost:8080/"
        },
        "outputId": "c4f5cb11-1cc6-4067-b818-15f922544e81"
      },
      "outputs": [
        {
          "output_type": "stream",
          "name": "stdout",
          "text": [
            "- Players actually selected from the all_nba_2018_selections dataset:\n",
            "\n",
            "Kevin Durant, Stephen Curry, Giannis Antetokounmpo, Joel Embiid, Paul George, LeBron James, Kawhi Leonard, Damian Lillard, Russell Westbrook, James Harden, Blake Griffin, Kyrie Irving, Kemba Walker, Rudy Gobert, Nikola Jokic\n",
            "\n",
            "- Players actually selected missing from OUR predictions:\n",
            "\n",
            "Stephen Curry, Damian Lillard, Blake Griffin, Kyrie Irving\n",
            "\n",
            "- Players in our predictions not selected:\n",
            "\n",
            "Jrue Holiday, Nikola Vucevic, Anthony Davis, Karl-Anthony Towns\n"
          ]
        }
      ],
      "source": [
        "#join by index and sorting by column prob_allnba\n",
        "all_nba_2018_df_players = all_nba_2018_df_players.join(all_nba_2018_df['prob_allnba'])\n",
        "all_nba_2018_df_players = all_nba_2018_df_players.sort_values(by='prob_allnba', ascending=False)\n",
        "\n",
        "#nba selected list\n",
        "all_nba_selected= all_nba_2018_selections2[all_nba_2018_selections2['all_nba'] == 1]\n",
        "all_nba_selected_list = set(all_nba_selected['player']) \n",
        "\n",
        "#nba predicted list\n",
        "all_nba_predicted = all_nba_2018_df_players.iloc[:15].copy()\n",
        "all_nba_predicted_list = set(all_nba_predicted['player'])\n",
        "\n",
        "#calculate results\n",
        "all_nba_predicted_missing = list(all_nba_selected_list - all_nba_predicted_list) \n",
        "all_nba_predicted_notsel =  list(all_nba_predicted_list - all_nba_selected_list )\n",
        "\n",
        "print('- Players actually selected from the all_nba_2018_selections dataset:\\n')\n",
        "print(*all_nba_selected_list,sep = \", \")\n",
        "print('\\n- Players actually selected missing from OUR predictions:\\n')\n",
        "print(*all_nba_predicted_missing,sep= \", \")\n",
        "print('\\n- Players in our predictions not selected:\\n')\n",
        "print(*all_nba_predicted_notsel,sep= \", \")"
      ]
    },
    {
      "cell_type": "markdown",
      "id": "66b994d0-d37a-43c2-a38f-ea5e86afa512",
      "metadata": {
        "id": "66b994d0-d37a-43c2-a38f-ea5e86afa512"
      },
      "source": [
        "2.16. Create a class named AllNbaSingleSeasonClassifier that takes a scikit learn model in the constructor, then implements a predict method that returns predictions with only the 15 most probable selections."
      ]
    },
    {
      "cell_type": "code",
      "execution_count": 49,
      "id": "5fc85317-ffc5-45e9-8740-3703b5d1aa86",
      "metadata": {
        "id": "5fc85317-ffc5-45e9-8740-3703b5d1aa86"
      },
      "outputs": [],
      "source": [
        "class AllNbaSingleSeasonClassifier():\n",
        "    def __init__(self, model):\n",
        "        \"\"\"\n",
        "        Class constructor\n",
        "        Parameters\n",
        "        ----------\n",
        "        model: BaseEstimator\n",
        "            a Scikit learn estimator\n",
        "        \"\"\"\n",
        "        self._model = model\n",
        "\n",
        "    def predict(self, X):\n",
        "        \"\"\"\n",
        "        Predicts all nba selections. This classifier will limit the number\n",
        "        of positive instances to 15\n",
        "        Parameters\n",
        "        ----------\n",
        "        X: pd.DataFrame\n",
        "            a dataframe with the players data\n",
        "        Returns\n",
        "        -------\n",
        "        np.ndarray\n",
        "            An array of the same length as y, with 15 true results based on the players with most probabilities of\n",
        "            beign selected\n",
        "        \"\"\"\n",
        "        #apply predict_proba of self to input DF and select the second column of result\n",
        "        X['all_nba'] = self._model.predict_proba(X)[:, 1]\n",
        "\n",
        "        #make a copy of the DF, sort values and select first 15th players\n",
        "        X_copy = X.copy()\n",
        "        X_copy.sort_values('all_nba', inplace=True, ascending=False)\n",
        "        X_copy = X_copy.iloc[:15].copy()\n",
        "\n",
        "        #index values filtered by 1 and 0\n",
        "        X_copy_index = list(X_copy.index.values)\n",
        "        #select only selected players\n",
        "        X.loc[X_copy_index, 'all_nba'] = 1\n",
        "        X.loc[~X.index.isin(X_copy_index),'all_nba'] = 0\n",
        "\n",
        "        return X[['all_nba']]"
      ]
    },
    {
      "cell_type": "markdown",
      "id": "0d83848f-8132-4205-bc18-88b8a5f07555",
      "metadata": {
        "id": "0d83848f-8132-4205-bc18-88b8a5f07555"
      },
      "source": [
        "2.17. Use the new classifier to make predictions and evaluate the result with precision, recall and f1"
      ]
    },
    {
      "cell_type": "code",
      "execution_count": 50,
      "id": "ac440daa-8a05-4a90-8729-a48af57092bb",
      "metadata": {
        "id": "ac440daa-8a05-4a90-8729-a48af57092bb",
        "colab": {
          "base_uri": "https://localhost:8080/"
        },
        "outputId": "afb0d36e-4ac4-483f-c85f-7742512e8ec9"
      },
      "outputs": [
        {
          "output_type": "stream",
          "name": "stdout",
          "text": [
            "New Model Precision: 0.73%\n",
            "New Model Recall Score: 0.73%\n",
            "New Model F1 Score: 0.73%\n",
            "\n"
          ]
        }
      ],
      "source": [
        "classifier = AllNbaSingleSeasonClassifier(logreg)\n",
        "predictions = classifier.predict(all_nba_2018_df2) \n",
        "\n",
        "print(\n",
        "      f\"New Model Precision: {round(precision_score(all_nba_2018_selections,predictions),2)}%\\n\"\n",
        "      f\"New Model Recall Score: {round(recall_score(all_nba_2018_selections,predictions),2)}%\\n\"\n",
        "      f\"New Model F1 Score: {round(f1_score(all_nba_2018_selections, predictions),2)}%\\n\"\n",
        "      )"
      ]
    },
    {
      "cell_type": "markdown",
      "id": "1dd382f9-9640-47ce-a077-41c8baeb2d9f",
      "metadata": {
        "tags": [],
        "id": "1dd382f9-9640-47ce-a077-41c8baeb2d9f"
      },
      "source": [
        "#### Analyzing our results"
      ]
    },
    {
      "cell_type": "markdown",
      "id": "f4eb9454-b0d5-40f0-8cb3-0af1ce8ade34",
      "metadata": {
        "id": "f4eb9454-b0d5-40f0-8cb3-0af1ce8ade34"
      },
      "source": [
        "2.18. What do you think it is the main problem with this dataset and the way we trained our model?"
      ]
    },
    {
      "cell_type": "code",
      "execution_count": 51,
      "id": "4bbefca3-c863-4cf6-a3a3-5168ef05e43f",
      "metadata": {
        "id": "4bbefca3-c863-4cf6-a3a3-5168ef05e43f",
        "colab": {
          "base_uri": "https://localhost:8080/"
        },
        "outputId": "3869bc53-0a75-473e-8a2f-9a883d49af8d"
      },
      "outputs": [
        {
          "output_type": "stream",
          "name": "stdout",
          "text": [
            "I think the main problem in this dataset is that we are not taking count\n",
            "of positions of players and we are making a classifier that relys only ingamestats and teams.\n"
          ]
        }
      ],
      "source": [
        "print(\n",
        "    f'I think the main problem in this dataset is that we are not taking count\\n'\n",
        "    f'of positions of players and we are making a classifier that relys only in'\n",
        "    f'gamestats and teams.'\n",
        "    )"
      ]
    },
    {
      "cell_type": "markdown",
      "id": "e81ac1ea-75ab-4fee-8148-20a4ea663791",
      "metadata": {
        "id": "e81ac1ea-75ab-4fee-8148-20a4ea663791"
      },
      "source": [
        "2.19. What do you think we could do to improve our model?"
      ]
    },
    {
      "cell_type": "code",
      "execution_count": 52,
      "id": "b8f31b42-26bd-4ce4-a42d-1ceb75ba90b6",
      "metadata": {
        "id": "b8f31b42-26bd-4ce4-a42d-1ceb75ba90b6",
        "colab": {
          "base_uri": "https://localhost:8080/"
        },
        "outputId": "2086a5b2-525f-45b8-b1cf-e03c9ab629c7"
      },
      "outputs": [
        {
          "output_type": "stream",
          "name": "stdout",
          "text": [
            "I think our model could improve if we consider selection by positions in\n",
            "All NBA Teams awards like 2 front court players (guards), 2 backcourt players (forwards) and 1 center.\n"
          ]
        }
      ],
      "source": [
        "print(\n",
        "      f'I think our model could improve if we consider selection by positions in\\n'\n",
        "      f'All NBA Teams awards like 2 front court players (guards), 2 backcourt players (forwards) and 1 center.'\n",
        "    )"
      ]
    }
  ],
  "metadata": {
    "kernelspec": {
      "display_name": "Python 3 (ipykernel)",
      "language": "python",
      "name": "python3"
    },
    "language_info": {
      "codemirror_mode": {
        "name": "ipython",
        "version": 3
      },
      "file_extension": ".py",
      "mimetype": "text/x-python",
      "name": "python",
      "nbconvert_exporter": "python",
      "pygments_lexer": "ipython3",
      "version": "3.8.9"
    },
    "colab": {
      "provenance": [],
      "collapsed_sections": []
    }
  },
  "nbformat": 4,
  "nbformat_minor": 5
}